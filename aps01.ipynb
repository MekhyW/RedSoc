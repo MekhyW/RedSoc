{
 "cells": [
  {
   "cell_type": "markdown",
   "id": "4ce9c031-1c96-4d9d-bd80-1d5b2d5bc745",
   "metadata": {},
   "source": [
    "# Redes Sociais - APS 1\n"
   ]
  },
  {
   "cell_type": "markdown",
   "id": "e86fcb55-f899-43ff-961a-59b4b514d4e8",
   "metadata": {},
   "source": [
    "Uma rede de inclusão de arquivo de código-fonte Linux (v3.16). Os vértices representam arquivos fonte e uma aresta direcionada indica se um arquivo inclui outro.\n",
    "\n",
    "_Nota: os grafos são dirigidos, conforme informado no agregador de databases [Netzschleuder](https://networks.skewed.de/), do qual foi extraído a base utilizada aqui._"
   ]
  },
  {
   "cell_type": "markdown",
   "id": "49e6270e-0e80-4d84-a982-5b6b5edac999",
   "metadata": {},
   "source": [
    "## Pré-requisitos"
   ]
  },
  {
   "cell_type": "code",
   "execution_count": 1,
   "id": "d3642d09-6843-4ee8-b1ba-ea0c4e4eaba1",
   "metadata": {
    "execution": {
     "iopub.execute_input": "2023-08-28T13:53:58.570595Z",
     "iopub.status.busy": "2023-08-28T13:53:58.570425Z",
     "iopub.status.idle": "2023-08-28T13:53:59.899488Z",
     "shell.execute_reply": "2023-08-28T13:53:59.898826Z",
     "shell.execute_reply.started": "2023-08-28T13:53:58.570582Z"
    }
   },
   "outputs": [
    {
     "data": {
      "text/html": [
       "\n",
       "    <script src=\"/static/.hidden/netpixi.min.js\"></script>\n"
      ],
      "text/plain": [
       "<IPython.core.display.HTML object>"
      ]
     },
     "metadata": {},
     "output_type": "display_data"
    }
   ],
   "source": [
    "import graph_tool_extras as gte\n",
    "import netpixi\n",
    "from graph_tool import draw"
   ]
  },
  {
   "cell_type": "code",
   "execution_count": 4,
   "id": "6c4825c7-b729-4cfc-b7aa-5e29752d5da5",
   "metadata": {
    "execution": {
     "iopub.execute_input": "2023-08-28T13:54:36.424835Z",
     "iopub.status.busy": "2023-08-28T13:54:36.424652Z",
     "iopub.status.idle": "2023-08-28T13:54:36.427513Z",
     "shell.execute_reply": "2023-08-28T13:54:36.427104Z",
     "shell.execute_reply.started": "2023-08-28T13:54:36.424823Z"
    }
   },
   "outputs": [],
   "source": [
    "PATH = 'edges.csv'"
   ]
  },
  {
   "cell_type": "markdown",
   "id": "6cfb4f88-813b-44ee-a0f9-a989339cca89",
   "metadata": {},
   "source": [
    "## Análise dos dados importados"
   ]
  },
  {
   "cell_type": "markdown",
   "id": "036e2e4b-d1fa-4afd-93fb-8ab1858d560b",
   "metadata": {},
   "source": [
    "O arquivo relevante para nossa análise é `edges.csv`, que representa uma lista de valores separados por _vírgulas_, com uma aresta por linha. O significado de cada coluna do arquivo é:\n",
    "\n",
    "- Primeira coluna: ID do nó de origem (_source_)\n",
    "\n",
    "- Segunda coluna: ID do nó de destino (_target_)\n",
    "\n",
    "Agora, devemos inspecionar os valores armazenados em `edges.csv`:"
   ]
  },
  {
   "cell_type": "code",
   "execution_count": 5,
   "id": "b978cc43-7e40-4b56-a764-5abd40d9c119",
   "metadata": {
    "execution": {
     "iopub.execute_input": "2023-08-28T13:54:37.813310Z",
     "iopub.status.busy": "2023-08-28T13:54:37.812874Z",
     "iopub.status.idle": "2023-08-28T13:54:37.817143Z",
     "shell.execute_reply": "2023-08-28T13:54:37.816501Z",
     "shell.execute_reply.started": "2023-08-28T13:54:37.813295Z"
    }
   },
   "outputs": [
    {
     "name": "stdout",
     "output_type": "stream",
     "text": [
      "0 9\n",
      "\n",
      "0 10\n",
      "\n",
      "0 11\n",
      "\n",
      "0 12\n",
      "\n",
      "0 13\n",
      "\n"
     ]
    }
   ],
   "source": [
    "with open(PATH) as file:\n",
    "\n",
    "    # cria index de contagem para o loop abaixo.\n",
    "    i = 0\n",
    "    \n",
    "    # ignora o cabeçalho.\n",
    "    next(file)\n",
    "\n",
    "    # Para não sobrecarregar este notebook\n",
    "    # vamos espiar somente as 5 primeiras linhas.\n",
    "    for line in file:\n",
    "\n",
    "        # Transforma a linha em uma lista de partes,\n",
    "        # considerando a vírgula como separador.\n",
    "        parts = line.split(',')\n",
    "\n",
    "        # Imprime o nó A que referencia e o nó B que é referenciado.\n",
    "        print(parts[0], parts[1])\n",
    "\n",
    "        # Para não sobrecarregar este notebook, vamos usar um contador\n",
    "        # e um break para imprimir apenas as cinco primeiras linhas.\n",
    "        i += 1\n",
    "        if i == 5:\n",
    "            break"
   ]
  },
  {
   "cell_type": "markdown",
   "id": "8e53c48a-5e1b-4cf7-931f-7e39620d4a49",
   "metadata": {},
   "source": [
    "## Criação do grafo"
   ]
  },
  {
   "cell_type": "markdown",
   "id": "73bdae5e-d6f0-4867-aa2c-46eefd7568d5",
   "metadata": {
    "execution": {
     "iopub.execute_input": "2023-08-20T19:37:55.240286Z",
     "iopub.status.busy": "2023-08-20T19:37:55.239465Z",
     "iopub.status.idle": "2023-08-20T19:37:55.305094Z",
     "shell.execute_reply": "2023-08-20T19:37:55.303577Z",
     "shell.execute_reply.started": "2023-08-20T19:37:55.240259Z"
    }
   },
   "source": [
    "Utilizaremos a biblioteca [graph-tool](https://graph-tool.skewed.de/) somente para criação e visualização básica dos grafos, sem suporte de nenhum método ou função que não seja essencial."
   ]
  },
  {
   "cell_type": "code",
   "execution_count": 6,
   "id": "31688a69-ca4c-490a-84b4-66742a357982",
   "metadata": {
    "execution": {
     "iopub.execute_input": "2023-08-28T13:54:39.708362Z",
     "iopub.status.busy": "2023-08-28T13:54:39.708168Z",
     "iopub.status.idle": "2023-08-28T13:54:39.715492Z",
     "shell.execute_reply": "2023-08-28T13:54:39.714763Z",
     "shell.execute_reply.started": "2023-08-28T13:54:39.708347Z"
    }
   },
   "outputs": [],
   "source": [
    "g = gte.Graph(directed=True) # pois o grafo é directed, como informado acima."
   ]
  },
  {
   "cell_type": "markdown",
   "id": "0121351c-e87e-443c-a777-63032cbfc8cc",
   "metadata": {},
   "source": [
    "Antes, vamos definir duas funções auxiliares para facilitar a adição de novos nós e arestas, respectivamente."
   ]
  },
  {
   "cell_type": "code",
   "execution_count": 7,
   "id": "5c6ed088-d0e6-4e7b-989a-b73d12549688",
   "metadata": {
    "execution": {
     "iopub.execute_input": "2023-08-28T13:54:40.864041Z",
     "iopub.status.busy": "2023-08-28T13:54:40.863848Z",
     "iopub.status.idle": "2023-08-28T13:54:40.867318Z",
     "shell.execute_reply": "2023-08-28T13:54:40.866914Z",
     "shell.execute_reply.started": "2023-08-28T13:54:40.864029Z"
    }
   },
   "outputs": [],
   "source": [
    "def get_or_add_vertex(g, id):\n",
    "    u = g.vertex_by_id(id)\n",
    "    if u is None:\n",
    "        u = g.add_vertex_by_id(id)\n",
    "    return u\n",
    "\n",
    "def get_or_add_edge(g, id_origin, id_destiny):\n",
    "    e = g.edge_by_ids(id_origin, id_destiny)\n",
    "    if e is None:\n",
    "        e = g.add_edge_by_ids(id_origin, id_destiny)\n",
    "    return e"
   ]
  },
  {
   "cell_type": "markdown",
   "id": "e08ef845-8fb5-43a3-8353-c067d1130a02",
   "metadata": {},
   "source": [
    "Depois de criar o novo grafo, vamos armazenar os valores de `out.linux` nele, o transformando em uma rede."
   ]
  },
  {
   "cell_type": "code",
   "execution_count": 8,
   "id": "d82b4d2d-c1b4-484e-a78a-6be0d0d0d923",
   "metadata": {
    "execution": {
     "iopub.execute_input": "2023-08-28T13:54:42.080498Z",
     "iopub.status.busy": "2023-08-28T13:54:42.080296Z",
     "iopub.status.idle": "2023-08-28T13:54:46.475787Z",
     "shell.execute_reply": "2023-08-28T13:54:46.475251Z",
     "shell.execute_reply.started": "2023-08-28T13:54:42.080483Z"
    }
   },
   "outputs": [
    {
     "name": "stdout",
     "output_type": "stream",
     "text": [
      "Foram lidas 213955 linhas.\n"
     ]
    }
   ],
   "source": [
    "with open(PATH) as file:\n",
    "\n",
    "    # Cria index de contagem de linhas lidas.\n",
    "    i = 1\n",
    "    \n",
    "    # Ignora o cabeçalho.\n",
    "    next(file)\n",
    "\n",
    "    # Itera linha a linha do arquivo `out.linux`\n",
    "    for line in file:\n",
    "\n",
    "        # Transforma a linha em uma lista de partes,\n",
    "        # considerando a vírgula como separador.\n",
    "        parts = line.split(',')\n",
    "\n",
    "        # Define os IDs de origem e destino.\n",
    "        id_origin = int(parts[0])\n",
    "        id_destiny = int(parts[1])\n",
    "        \n",
    "        # Adiciona os vértices.\n",
    "        get_or_add_vertex(g, id_origin)\n",
    "        get_or_add_vertex(g, id_destiny)\n",
    "\n",
    "        # Adiciona a aresta correspondente a esta linha.\n",
    "        get_or_add_edge(g, id_origin, id_destiny)\n",
    "        \n",
    "        # Incrementa o contador de linhas lidas.\n",
    "        i += 1\n",
    "\n",
    "# Imprime a quantidade de linhas lidas.\n",
    "print(f'Foram lidas {i} linhas.') "
   ]
  },
  {
   "cell_type": "markdown",
   "id": "923564fb-7f3c-4fe3-a560-c423b6072e37",
   "metadata": {},
   "source": [
    "A seguir, devemos chamar `draw.sfdp_layout`, passando a rede, para rodar um algoritmo de posicionamento chamado SFDP [[1](#sfdp)].\n",
    "\n",
    "Esse algoritmo usa uma ideia conhecida como [force-directed graph drawing](https://en.wikipedia.org/wiki/Force-directed_graph_drawing) para posicionar os vértices de forma a evidenciar agrupamentos."
   ]
  },
  {
   "cell_type": "code",
   "execution_count": 9,
   "id": "137eb50b-e52a-4b4a-be92-fb71175d97d1",
   "metadata": {
    "execution": {
     "iopub.execute_input": "2023-08-28T13:54:46.476786Z",
     "iopub.status.busy": "2023-08-28T13:54:46.476638Z",
     "iopub.status.idle": "2023-08-28T13:55:56.794751Z",
     "shell.execute_reply": "2023-08-28T13:55:56.794243Z",
     "shell.execute_reply.started": "2023-08-28T13:54:46.476774Z"
    }
   },
   "outputs": [],
   "source": [
    "layout = draw.sfdp_layout(g)"
   ]
  },
  {
   "cell_type": "code",
   "execution_count": 10,
   "id": "fb4d1179-2d20-4734-95ce-ead89c8f91d0",
   "metadata": {
    "execution": {
     "iopub.execute_input": "2023-08-28T13:56:00.828803Z",
     "iopub.status.busy": "2023-08-28T13:56:00.828467Z",
     "iopub.status.idle": "2023-08-28T13:56:01.350902Z",
     "shell.execute_reply": "2023-08-28T13:56:01.350423Z",
     "shell.execute_reply.started": "2023-08-28T13:56:00.828782Z"
    }
   },
   "outputs": [],
   "source": [
    "gte.move(g, layout)"
   ]
  },
  {
   "cell_type": "markdown",
   "id": "b00c9e76-86e3-4e24-8394-402860042868",
   "metadata": {},
   "source": [
    "## Armazenamento da rede"
   ]
  },
  {
   "cell_type": "markdown",
   "id": "b60cf942-8c2e-40eb-85a1-8b210a134bc2",
   "metadata": {
    "execution": {
     "iopub.execute_input": "2023-08-20T20:27:55.808351Z",
     "iopub.status.busy": "2023-08-20T20:27:55.808009Z",
     "iopub.status.idle": "2023-08-20T20:27:55.815750Z",
     "shell.execute_reply": "2023-08-20T20:27:55.814497Z",
     "shell.execute_reply.started": "2023-08-20T20:27:55.808329Z"
    }
   },
   "source": [
    "Para garantir a segurança da informação processada, devemos guardá-la em um arquivo na mesma pasta deste notebook."
   ]
  },
  {
   "cell_type": "code",
   "execution_count": 16,
   "id": "bb6587ad-a233-4dc9-8af1-b47f0ca233b7",
   "metadata": {
    "execution": {
     "iopub.execute_input": "2023-08-28T13:59:12.039938Z",
     "iopub.status.busy": "2023-08-28T13:59:12.039619Z",
     "iopub.status.idle": "2023-08-28T13:59:22.027585Z",
     "shell.execute_reply": "2023-08-28T13:59:22.027094Z",
     "shell.execute_reply.started": "2023-08-28T13:59:12.039914Z"
    }
   },
   "outputs": [],
   "source": [
    "g = gte.clean(g)\n",
    "gte.save(g, 'linux.net.gz')"
   ]
  },
  {
   "cell_type": "markdown",
   "id": "d3cf04a6-7083-44b8-9994-97ffac7708dc",
   "metadata": {},
   "source": [
    "## Visualização da rede"
   ]
  },
  {
   "cell_type": "markdown",
   "id": "2e6d71c3-c46e-4d33-b3ad-e433ea90eb0c",
   "metadata": {},
   "source": [
    "O próximo passo é a renderização da rede."
   ]
  },
  {
   "cell_type": "code",
   "execution_count": 17,
   "id": "baa4ee05-bf7f-4513-8121-2bc0b27e0839",
   "metadata": {
    "execution": {
     "iopub.execute_input": "2023-08-28T13:59:22.028474Z",
     "iopub.status.busy": "2023-08-28T13:59:22.028338Z",
     "iopub.status.idle": "2023-08-28T13:59:22.032786Z",
     "shell.execute_reply": "2023-08-28T13:59:22.032274Z",
     "shell.execute_reply.started": "2023-08-28T13:59:22.028461Z"
    },
    "scrolled": true
   },
   "outputs": [
    {
     "data": {
      "text/html": [
       "\n",
       "        <div id=\"iFdZEU7o9kYEeiwt8BjFFF\"></div>\n",
       "        <script>netpixi.render('iFdZEU7o9kYEeiwt8BjFFF', '/static/__shared__/linux.net.gz', 1.7777777777777777, true, true, false, true);</script>\n",
       "    "
      ],
      "text/plain": [
       "<IPython.core.display.HTML object>"
      ]
     },
     "metadata": {},
     "output_type": "display_data"
    }
   ],
   "source": [
    "r = netpixi.render('linux.net.gz', infinite = True)"
   ]
  },
  {
   "cell_type": "markdown",
   "id": "70806544-40fc-4a4b-9a0e-ecf8e83c6977",
   "metadata": {},
   "source": [
    "Por fim, devemos ajustar a visualização da renderização."
   ]
  },
  {
   "cell_type": "code",
   "execution_count": 18,
   "id": "3b13096b-f84f-4910-bb28-cec6aa4063df",
   "metadata": {
    "execution": {
     "iopub.execute_input": "2023-08-28T13:59:42.739824Z",
     "iopub.status.busy": "2023-08-28T13:59:42.738950Z",
     "iopub.status.idle": "2023-08-28T13:59:42.743390Z",
     "shell.execute_reply": "2023-08-28T13:59:42.742987Z",
     "shell.execute_reply.started": "2023-08-28T13:59:42.739805Z"
    }
   },
   "outputs": [
    {
     "data": {
      "text/html": [
       "\n",
       "        <div id=\"CAa8rSYsf6VSwyx7mtDwFK\"></div>\n",
       "        <script>netpixi.call('CAa8rSYsf6VSwyx7mtDwFK', 'iFdZEU7o9kYEeiwt8BjFFF', 'changeGraph', 'eyJ0eXBlIjogInNldHRpbmdzIiwgInByb3BzIjogeyJ2ZXJ0ZXgiOiB7InNpemUiOiA0LCAiYndpZHRoIjogMX19fQo=');</script>\n",
       "    "
      ],
      "text/plain": [
       "<IPython.core.display.HTML object>"
      ]
     },
     "metadata": {},
     "output_type": "display_data"
    }
   ],
   "source": [
    "r.vertex_default(size=4, bwidth=1)"
   ]
  },
  {
   "cell_type": "code",
   "execution_count": 19,
   "id": "7e6a4ee8-e117-4f40-ac47-303b5266a215",
   "metadata": {
    "execution": {
     "iopub.execute_input": "2023-08-28T13:59:43.778558Z",
     "iopub.status.busy": "2023-08-28T13:59:43.778023Z",
     "iopub.status.idle": "2023-08-28T13:59:43.782139Z",
     "shell.execute_reply": "2023-08-28T13:59:43.781600Z",
     "shell.execute_reply.started": "2023-08-28T13:59:43.778542Z"
    }
   },
   "outputs": [
    {
     "data": {
      "text/html": [
       "\n",
       "        <div id=\"f8CcEnLPmy9ypNLLYBBLKj\"></div>\n",
       "        <script>netpixi.call('f8CcEnLPmy9ypNLLYBBLKj', 'iFdZEU7o9kYEeiwt8BjFFF', 'changeGraph', 'eyJ0eXBlIjogInNldHRpbmdzIiwgInByb3BzIjogeyJlZGdlIjogeyJ3aWR0aCI6IDF9fX0K');</script>\n",
       "    "
      ],
      "text/plain": [
       "<IPython.core.display.HTML object>"
      ]
     },
     "metadata": {},
     "output_type": "display_data"
    }
   ],
   "source": [
    "r.edge_default(width=1)"
   ]
  },
  {
   "cell_type": "code",
   "execution_count": null,
   "id": "e2e94ff3-3b72-46a5-8c17-1ddc2bed5313",
   "metadata": {},
   "outputs": [],
   "source": []
  }
 ],
 "metadata": {
  "kernelspec": {
   "display_name": "Python 3 (ipykernel)",
   "language": "python",
   "name": "python3"
  },
  "language_info": {
   "codemirror_mode": {
    "name": "ipython",
    "version": 3
   },
   "file_extension": ".py",
   "mimetype": "text/x-python",
   "name": "python",
   "nbconvert_exporter": "python",
   "pygments_lexer": "ipython3",
   "version": "3.11.4"
  }
 },
 "nbformat": 4,
 "nbformat_minor": 5
}
