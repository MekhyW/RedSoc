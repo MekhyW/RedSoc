{
 "cells": [
  {
   "cell_type": "markdown",
   "metadata": {},
   "source": [
    "# Redes Sociais - APS 3\n",
    "\n",
    "### Alunos: Arthur Barreto, Enricco Gemha e Felipe Catapano\n"
   ]
  },
  {
   "cell_type": "markdown",
   "metadata": {},
   "source": [
    "Extraindo dados do *The Movies Dataset* [$^1$](https://www.kaggle.com/datasets/rounakbanik/the-movies-dataset), construímos uma rede de atores/atrizes em Hollywood que se conectam quando participam do mesmo filme como atores/atrizes, considerando mais de 45.000 filmes. Os vértices representam atores/atrizes em Hollywood e uma aresta não-direcionada indica um filme em que ambos atores/atrizes participaram."
   ]
  },
  {
   "cell_type": "markdown",
   "metadata": {},
   "source": [
    "## Pré-requisitos"
   ]
  },
  {
   "cell_type": "code",
   "execution_count": 1,
   "metadata": {
    "execution": {
     "iopub.execute_input": "2023-10-07T02:17:40.999106Z",
     "iopub.status.busy": "2023-10-07T02:17:40.998870Z",
     "iopub.status.idle": "2023-10-07T02:17:43.006015Z",
     "shell.execute_reply": "2023-10-07T02:17:43.005215Z",
     "shell.execute_reply.started": "2023-10-07T02:17:40.999089Z"
    }
   },
   "outputs": [
    {
     "data": {
      "text/html": [
       "\n",
       "    <script src=\"/static/.hidden/netpixi.min.js\"></script>\n"
      ],
      "text/plain": [
       "<IPython.core.display.HTML object>"
      ]
     },
     "metadata": {},
     "output_type": "display_data"
    }
   ],
   "source": [
    "import graph_tool_extras as gte\n",
    "import netpixi\n",
    "from graph_tool import draw\n",
    "import distribution as dst\n",
    "import numpy as np\n",
    "import matplotlib.pyplot as plt\n",
    "%matplotlib inline"
   ]
  },
  {
   "cell_type": "code",
   "execution_count": 2,
   "metadata": {
    "execution": {
     "iopub.execute_input": "2023-10-07T02:17:43.901662Z",
     "iopub.status.busy": "2023-10-07T02:17:43.901312Z",
     "iopub.status.idle": "2023-10-07T02:17:43.905628Z",
     "shell.execute_reply": "2023-10-07T02:17:43.904693Z",
     "shell.execute_reply.started": "2023-10-07T02:17:43.901645Z"
    }
   },
   "outputs": [],
   "source": [
    "PATH = 'credits.csv'"
   ]
  },
  {
   "cell_type": "markdown",
   "metadata": {},
   "source": [
    "## Análise dos dados importados"
   ]
  },
  {
   "cell_type": "markdown",
   "metadata": {},
   "source": [
    "O arquivo que contém os dados necessários para que possamos montar a rede é `credits.csv`, que representa uma lista de valores separados por _vírgulas_. O significado de cada coluna do arquivo é:\n",
    "\n",
    "- Primeira coluna: Elenco de um filme, ou seja, informações relacionadas aos atores (esta é a qual estamos interessados)\n",
    "- Segunda coluna: Equipe de produção do filme\n",
    "- Terceira coluna: ID do filme"
   ]
  },
  {
   "cell_type": "code",
   "execution_count": 3,
   "metadata": {
    "execution": {
     "iopub.execute_input": "2023-10-07T02:17:46.643106Z",
     "iopub.status.busy": "2023-10-07T02:17:46.642751Z",
     "iopub.status.idle": "2023-10-07T02:17:53.201094Z",
     "shell.execute_reply": "2023-10-07T02:17:53.199770Z",
     "shell.execute_reply.started": "2023-10-07T02:17:46.643084Z"
    }
   },
   "outputs": [
    {
     "name": "stdout",
     "output_type": "stream",
     "text": [
      "Foram lidos 45055 filmes.\n",
      "Foram encontrados 421 erros.\n"
     ]
    }
   ],
   "source": [
    "def get_data(line):\n",
    "    error_count = 0\n",
    "    # Adquire somente a primeira coluna (cast)\n",
    "    casting = (line.split('\",\"')[0])[1:]\n",
    "    # Retira os colchetes\n",
    "    casting = casting.replace('[', '').replace(']', '')\n",
    "    # Adquire os dados\n",
    "    casting = casting.replace('{', '').split('},')\n",
    "    # insere os nomes dos atores em uma lista\n",
    "    movie_actor_list = []\n",
    "    for cast in casting:\n",
    "        try:\n",
    "            actor_id = int(cast.split(\"'id': \")[1].split(\",\")[0])\n",
    "            movie_actor_list.append(actor_id)\n",
    "        except:\n",
    "            error_count += 1\n",
    "    \n",
    "    # Retorna uma lista contendo os nomes dos atores\n",
    "    return movie_actor_list, error_count\n",
    "\n",
    "\n",
    "\n",
    "all_movies = []\n",
    "with open(PATH) as f:\n",
    "    i = 0\n",
    "    error_count = 0\n",
    "    next(f)\n",
    "    for line in f:\n",
    "        actor_list, new_error_count = get_data(line)\n",
    "        error_count += new_error_count\n",
    "        all_movies.append(actor_list)\n",
    "        i += 1\n",
    "        \n",
    "print(f'Foram lidos {i-error_count} filmes.')\n",
    "print(f'Foram encontrados {error_count} erros.')"
   ]
  },
  {
   "cell_type": "markdown",
   "metadata": {},
   "source": [
    "## Analisando o dataset"
   ]
  },
  {
   "cell_type": "markdown",
   "metadata": {},
   "source": [
    "Primeiro, criaremos um dicionário de pares únicos de atores que trabalharam juntos em um filme, com seus IDs e quantas vezes já trabalharam juntos, a partir das informações já lidas. Isso será essencial para a construção da rede."
   ]
  },
  {
   "cell_type": "code",
   "execution_count": 4,
   "metadata": {
    "execution": {
     "iopub.execute_input": "2023-10-07T02:17:53.202507Z",
     "iopub.status.busy": "2023-10-07T02:17:53.202288Z",
     "iopub.status.idle": "2023-10-07T02:17:58.009973Z",
     "shell.execute_reply": "2023-10-07T02:17:58.009337Z",
     "shell.execute_reply.started": "2023-10-07T02:17:53.202484Z"
    }
   },
   "outputs": [
    {
     "name": "stdout",
     "output_type": "stream",
     "text": [
      "Foram encontradas 6195247 colaborações.\n",
      "Primeiras 20 colaborações: [((31, 12898), 10), ((31, 7167), 8), ((31, 12899), 2), ((31, 12900), 8), ((31, 7907), 7), ((31, 8873), 3), ((31, 1116442), 3), ((31, 12901), 2), ((31, 12133), 3), ((31, 8655), 3), ((31, 12903), 1), ((31, 37221), 1), ((7167, 12898), 8), ((12898, 12899), 2), ((12898, 12900), 8), ((7907, 12898), 7), ((8873, 12898), 2), ((12898, 1116442), 3), ((12898, 12901), 2), ((12133, 12898), 3)]\n"
     ]
    }
   ],
   "source": [
    "collaborations = {}\n",
    "\n",
    "for movie in all_movies:\n",
    "    for i in range(len(movie)):\n",
    "        for j in range(i+1, len(movie)):\n",
    "            actor1 = movie[i]\n",
    "            actor2 = movie[j]\n",
    "            if actor1 != actor2:\n",
    "                if actor1 > actor2:\n",
    "                    actor1, actor2 = actor2, actor1\n",
    "                if (actor1, actor2) in collaborations:\n",
    "                    collaborations[(actor1, actor2)] += 1\n",
    "                else:\n",
    "                    collaborations[(actor1, actor2)] = 1\n",
    "\n",
    "print(f'Foram encontradas {len(collaborations)} colaborações.')\n",
    "print(f'Primeiras 20 colaborações: {list(collaborations.items())[0:20]}')"
   ]
  },
  {
   "cell_type": "markdown",
   "metadata": {},
   "source": [
    "Em seguida, traçaremos um histograma onde o eixo x é o número de colaborações e o eixo y é o número de pares de atores que colaboraram tantas vezes. Isso nos dará uma ideia de como a rede é distribuída."
   ]
  },
  {
   "cell_type": "code",
   "execution_count": 5,
   "metadata": {
    "execution": {
     "iopub.execute_input": "2023-10-07T02:18:01.977795Z",
     "iopub.status.busy": "2023-10-07T02:18:01.977457Z",
     "iopub.status.idle": "2023-10-07T02:18:03.293548Z",
     "shell.execute_reply": "2023-10-07T02:18:03.292655Z",
     "shell.execute_reply.started": "2023-10-07T02:18:01.977770Z"
    }
   },
   "outputs": [
    {
     "name": "stdout",
     "output_type": "stream",
     "text": [
      "35\n"
     ]
    },
    {
     "data": {
      "image/png": "[encoded data removed]",
      "text/plain": [
       "<Figure size 1000x500 with 1 Axes>"
      ]
     },
     "metadata": {},
     "output_type": "display_data"
    }
   ],
   "source": [
    "collaborations_histogram = {}\n",
    "\n",
    "for pair, count in collaborations.items():\n",
    "    if count in collaborations_histogram:\n",
    "        collaborations_histogram[count] += 1\n",
    "    else:\n",
    "        collaborations_histogram[count] = 1\n",
    "\n",
    "plt.figure(figsize=(10, 5))\n",
    "plt.bar(collaborations_histogram.keys(), collaborations_histogram.values(), width=1, color='g', log=True, edgecolor='white')\n",
    "x_min = min(list(collaborations_histogram.keys()))\n",
    "x_max = max(list(collaborations_histogram.keys()))\n",
    "print(x_max)\n",
    "plt.xlim(2, x_max)\n",
    "plt.xlabel('Número de colaborações')\n",
    "plt.ylabel('Número de pares de atores')\n",
    "plt.title('Histograma de colaborações')\n",
    "plt.show()"
   ]
  },
  {
   "cell_type": "code",
   "execution_count": 6,
   "metadata": {
    "execution": {
     "iopub.execute_input": "2023-10-07T02:18:05.224756Z",
     "iopub.status.busy": "2023-10-07T02:18:05.224411Z",
     "iopub.status.idle": "2023-10-07T02:18:05.229617Z",
     "shell.execute_reply": "2023-10-07T02:18:05.228630Z",
     "shell.execute_reply.started": "2023-10-07T02:18:05.224726Z"
    }
   },
   "outputs": [
    {
     "name": "stdout",
     "output_type": "stream",
     "text": [
      "1 ou mais collabs: 6195247\n",
      "2 ou mais collabs: 251705\n",
      "3 ou mais collabs: 48887\n",
      "4 ou mais collabs: 16192\n",
      "5 ou mais collabs: 6760\n",
      "6 ou mais collabs: 3416\n",
      "7 ou mais collabs: 1900\n",
      "8 ou mais collabs: 1164\n",
      "9 ou mais collabs: 693\n",
      "10 ou mais collabs: 454\n",
      "11 ou mais collabs: 310\n",
      "12 ou mais collabs: 210\n",
      "13 ou mais collabs: 161\n",
      "14 ou mais collabs: 111\n",
      "15 ou mais collabs: 77\n",
      "16 ou mais collabs: 61\n",
      "17 ou mais collabs: 49\n",
      "18 ou mais collabs: 36\n",
      "19 ou mais collabs: 32\n",
      "20 ou mais collabs: 25\n",
      "21 ou mais collabs: 21\n",
      "22 ou mais collabs: 16\n",
      "23 ou mais collabs: 15\n",
      "24 ou mais collabs: 14\n",
      "25 ou mais collabs: 11\n",
      "26 ou mais collabs: 9\n",
      "27 ou mais collabs: 8\n",
      "29 ou mais collabs: 6\n",
      "30 ou mais collabs: 5\n",
      "31 ou mais collabs: 4\n",
      "33 ou mais collabs: 2\n",
      "35 ou mais collabs: 1\n"
     ]
    }
   ],
   "source": [
    "soma = sum(list(collaborations_histogram.values()))\n",
    "chaves = list(collaborations_histogram.keys())\n",
    "chaves.sort()\n",
    "for i in chaves:\n",
    "    print(f'{i} ou mais collabs: {soma}')\n",
    "    try:\n",
    "        soma -= collaborations_histogram[i]\n",
    "    except:\n",
    "        pass"
   ]
  },
  {
   "cell_type": "markdown",
   "metadata": {},
   "source": [
    "**Arestas com peso**\n",
    "\n",
    "Cada aresta representa a quantidade de filmes que os atores participaram juntos. Portanto, quanto maior o número de filmes em comum, mais peso a aresta terá, ou seja, maior significância ela terá.\n",
    "\n",
    "**Análise por moda**\n",
    "\n",
    "Em situações como esta, quando temos aresta com pesos, uma alternativa possível é eliminar o número que mais se repete, ou seja, a moda. Portanto, o nosso corte será na aresta com o valor mais comum de colaborações entre atores, ou seja, o valor da moda."
   ]
  },
  {
   "cell_type": "code",
   "execution_count": 7,
   "metadata": {
    "execution": {
     "iopub.execute_input": "2023-10-07T02:18:08.039747Z",
     "iopub.status.busy": "2023-10-07T02:18:08.039421Z",
     "iopub.status.idle": "2023-10-07T02:18:08.044071Z",
     "shell.execute_reply": "2023-10-07T02:18:08.043089Z",
     "shell.execute_reply.started": "2023-10-07T02:18:08.039727Z"
    }
   },
   "outputs": [
    {
     "name": "stdout",
     "output_type": "stream",
     "text": [
      "A moda é 1 colaboração.\n"
     ]
    }
   ],
   "source": [
    "# Imprime a quantidade de colaborações com mais arestas (moda)\n",
    "moda = max(collaborations_histogram.values())\n",
    "moda = [k for k, v in collaborations_histogram.items() if v == moda]\n",
    "print(f'A moda é {moda[0]} colaboração.')"
   ]
  },
  {
   "cell_type": "markdown",
   "metadata": {},
   "source": [
    "## Criação do grafo"
   ]
  },
  {
   "cell_type": "markdown",
   "metadata": {},
   "source": [
    "Utilizaremos a biblioteca [graph-tool](https://graph-tool.skewed.de/) somente para criação e visualização básica dos grafos, sem suporte de nenhum método ou função que não seja essencial."
   ]
  },
  {
   "cell_type": "code",
   "execution_count": 8,
   "metadata": {
    "execution": {
     "iopub.execute_input": "2023-10-07T02:18:09.688406Z",
     "iopub.status.busy": "2023-10-07T02:18:09.688053Z",
     "iopub.status.idle": "2023-10-07T02:18:09.692592Z",
     "shell.execute_reply": "2023-10-07T02:18:09.691868Z",
     "shell.execute_reply.started": "2023-10-07T02:18:09.688372Z"
    }
   },
   "outputs": [],
   "source": [
    "g = gte.Graph(directed=False) # pois o grafo é não direcionado"
   ]
  },
  {
   "cell_type": "markdown",
   "metadata": {},
   "source": [
    "Antes, vamos definir duas funções auxiliares para facilitar a adição de novos nós e arestas, respectivamente."
   ]
  },
  {
   "cell_type": "code",
   "execution_count": 9,
   "metadata": {
    "execution": {
     "iopub.execute_input": "2023-10-07T02:18:11.805028Z",
     "iopub.status.busy": "2023-10-07T02:18:11.804682Z",
     "iopub.status.idle": "2023-10-07T02:18:11.810477Z",
     "shell.execute_reply": "2023-10-07T02:18:11.809309Z",
     "shell.execute_reply.started": "2023-10-07T02:18:11.805003Z"
    }
   },
   "outputs": [],
   "source": [
    "def get_or_add_vertex(g, id):\n",
    "    u = g.vertex_by_id(id)\n",
    "    if u is None:\n",
    "        u = g.add_vertex_by_id(id)\n",
    "    return u"
   ]
  },
  {
   "cell_type": "code",
   "execution_count": 10,
   "metadata": {
    "execution": {
     "iopub.execute_input": "2023-10-07T02:18:12.146312Z",
     "iopub.status.busy": "2023-10-07T02:18:12.145758Z",
     "iopub.status.idle": "2023-10-07T02:18:12.150715Z",
     "shell.execute_reply": "2023-10-07T02:18:12.149937Z",
     "shell.execute_reply.started": "2023-10-07T02:18:12.146276Z"
    }
   },
   "outputs": [],
   "source": [
    "def get_or_add_edge(g, id1, id2):\n",
    "    e = g.edge_by_ids(id1, id2)\n",
    "    if e is None:\n",
    "        e = g.add_edge_by_ids(id1, id2)\n",
    "    return e"
   ]
  },
  {
   "cell_type": "markdown",
   "metadata": {},
   "source": [
    "Agora sim, vamos popular o grafo com os dados que temos.\n",
    "\n",
    "Para cada uma das colaborações armazenada no dicionário collaborations criado acima, cria-se os vértices e as arestas correspondentes no grafo caso os atores tenham trabalhado juntos em ao menos dois filmes."
   ]
  },
  {
   "cell_type": "code",
   "execution_count": 11,
   "metadata": {
    "execution": {
     "iopub.execute_input": "2023-10-07T02:18:13.026213Z",
     "iopub.status.busy": "2023-10-07T02:18:13.025993Z",
     "iopub.status.idle": "2023-10-07T02:18:19.643005Z",
     "shell.execute_reply": "2023-10-07T02:18:19.642253Z",
     "shell.execute_reply.started": "2023-10-07T02:18:13.026197Z"
    }
   },
   "outputs": [
    {
     "name": "stdout",
     "output_type": "stream",
     "text": [
      "Foram considerados 251705 pares únicos\n"
     ]
    }
   ],
   "source": [
    "i = 0\n",
    "for colaboracao in list(collaborations.items()):\n",
    "    \n",
    "    #Indices dos nós\n",
    "    no1 = colaboracao[0][0]\n",
    "    no2 = colaboracao[0][1]\n",
    "\n",
    "    #Quantidade de filmes juntos\n",
    "    quantidade_filmes_juntos = colaboracao[1]\n",
    "\n",
    "    #Cria os nós e uma aresta entre eles caso passe no limiar definido\n",
    "    if quantidade_filmes_juntos >= 2:\n",
    "        get_or_add_vertex(g, no1)\n",
    "        get_or_add_vertex(g, no2)\n",
    "        get_or_add_edge(g, no1, no2)\n",
    "        i += 1\n",
    "\n",
    "print(f\"Foram considerados {i} pares únicos\")"
   ]
  },
  {
   "cell_type": "markdown",
   "metadata": {},
   "source": [
    "A seguir, devemos chamar `draw.sfdp_layout`, passando a rede, para rodar um algoritmo de posicionamento chamado SFDP [[1](#sfdp)].\n",
    "\n",
    "Esse algoritmo usa uma ideia conhecida como [force-directed graph drawing](https://en.wikipedia.org/wiki/Force-directed_graph_drawing) para posicionar os vértices de forma a evidenciar agrupamentos.\n",
    "\n",
    "Também utilizamos o método clean para garantir que não há nós isolados na rede, que não são interessantes para a análise."
   ]
  },
  {
   "cell_type": "code",
   "execution_count": 12,
   "metadata": {
    "execution": {
     "iopub.execute_input": "2023-10-07T02:18:22.377308Z",
     "iopub.status.busy": "2023-10-07T02:18:22.376935Z",
     "iopub.status.idle": "2023-10-07T02:25:23.531736Z",
     "shell.execute_reply": "2023-10-07T02:25:23.530808Z",
     "shell.execute_reply.started": "2023-10-07T02:18:22.377276Z"
    }
   },
   "outputs": [],
   "source": [
    "layout = draw.sfdp_layout(g)"
   ]
  },
  {
   "cell_type": "code",
   "execution_count": 13,
   "metadata": {
    "execution": {
     "iopub.execute_input": "2023-10-07T02:25:23.535512Z",
     "iopub.status.busy": "2023-10-07T02:25:23.534444Z",
     "iopub.status.idle": "2023-10-07T02:25:24.365206Z",
     "shell.execute_reply": "2023-10-07T02:25:24.364286Z",
     "shell.execute_reply.started": "2023-10-07T02:25:23.535486Z"
    }
   },
   "outputs": [],
   "source": [
    "g = gte.clean(g)\n",
    "gte.move(g, layout)"
   ]
  },
  {
   "cell_type": "markdown",
   "metadata": {},
   "source": [
    "## Armazenamento da rede"
   ]
  },
  {
   "cell_type": "markdown",
   "metadata": {},
   "source": [
    "Para garantir a segurança da informação processada, devemos guardá-la em um arquivo na mesma pasta deste notebook."
   ]
  },
  {
   "cell_type": "code",
   "execution_count": 14,
   "metadata": {
    "execution": {
     "iopub.execute_input": "2023-10-07T02:25:24.366174Z",
     "iopub.status.busy": "2023-10-07T02:25:24.365979Z",
     "iopub.status.idle": "2023-10-07T02:25:34.851797Z",
     "shell.execute_reply": "2023-10-07T02:25:34.851225Z",
     "shell.execute_reply.started": "2023-10-07T02:25:24.366159Z"
    }
   },
   "outputs": [],
   "source": [
    "gte.save(g, 'actors.net.gz')"
   ]
  },
  {
   "cell_type": "markdown",
   "metadata": {},
   "source": [
    "## Visualização da rede"
   ]
  },
  {
   "cell_type": "markdown",
   "metadata": {},
   "source": [
    "O próximo passo é a renderização da rede."
   ]
  },
  {
   "cell_type": "code",
   "execution_count": 15,
   "metadata": {
    "execution": {
     "iopub.execute_input": "2023-10-07T02:25:34.853002Z",
     "iopub.status.busy": "2023-10-07T02:25:34.852846Z",
     "iopub.status.idle": "2023-10-07T02:25:34.858659Z",
     "shell.execute_reply": "2023-10-07T02:25:34.857780Z",
     "shell.execute_reply.started": "2023-10-07T02:25:34.852989Z"
    }
   },
   "outputs": [
    {
     "data": {
      "text/html": [
       "\n",
       "        <div id=\"QU8LwfutyqXK5PCpSBtk9z\"></div>\n",
       "        <script>netpixi.render('QU8LwfutyqXK5PCpSBtk9z', '/static/__shared__/actors.net.gz', 1.7777777777777777, true, true, false, true);</script>\n",
       "    "
      ],
      "text/plain": [
       "<IPython.core.display.HTML object>"
      ]
     },
     "metadata": {},
     "output_type": "display_data"
    }
   ],
   "source": [
    "r = netpixi.render('actors.net.gz', infinite=True)"
   ]
  },
  {
   "cell_type": "markdown",
   "metadata": {},
   "source": [
    "Por fim, devemos ajustar a visualização da renderização."
   ]
  },
  {
   "cell_type": "code",
   "execution_count": 16,
   "metadata": {
    "execution": {
     "iopub.execute_input": "2023-10-07T02:25:34.860128Z",
     "iopub.status.busy": "2023-10-07T02:25:34.859544Z",
     "iopub.status.idle": "2023-10-07T02:25:34.867932Z",
     "shell.execute_reply": "2023-10-07T02:25:34.866760Z",
     "shell.execute_reply.started": "2023-10-07T02:25:34.860103Z"
    }
   },
   "outputs": [
    {
     "data": {
      "text/html": [
       "\n",
       "        <div id=\"R4zT9rhEVQB7G5RFEg89Zr\"></div>\n",
       "        <script>netpixi.call('R4zT9rhEVQB7G5RFEg89Zr', 'QU8LwfutyqXK5PCpSBtk9z', 'changeGraph', 'eyJ0eXBlIjogInNldHRpbmdzIiwgInByb3BzIjogeyJ2ZXJ0ZXgiOiB7InNpemUiOiA0LCAiYndpZHRoIjogMX19fQo=');</script>\n",
       "    "
      ],
      "text/plain": [
       "<IPython.core.display.HTML object>"
      ]
     },
     "metadata": {},
     "output_type": "display_data"
    }
   ],
   "source": [
    "r.vertex_default(size=4, bwidth=1)"
   ]
  },
  {
   "cell_type": "code",
   "execution_count": 17,
   "metadata": {
    "execution": {
     "iopub.execute_input": "2023-10-07T02:25:34.868668Z",
     "iopub.status.busy": "2023-10-07T02:25:34.868493Z",
     "iopub.status.idle": "2023-10-07T02:25:34.874805Z",
     "shell.execute_reply": "2023-10-07T02:25:34.873981Z",
     "shell.execute_reply.started": "2023-10-07T02:25:34.868654Z"
    }
   },
   "outputs": [
    {
     "data": {
      "text/html": [
       "\n",
       "        <div id=\"CfZBKBRWPXThkNdK2oG7Cd\"></div>\n",
       "        <script>netpixi.call('CfZBKBRWPXThkNdK2oG7Cd', 'QU8LwfutyqXK5PCpSBtk9z', 'changeGraph', 'eyJ0eXBlIjogInNldHRpbmdzIiwgInByb3BzIjogeyJlZGdlIjogeyJ3aWR0aCI6IDF9fX0K');</script>\n",
       "    "
      ],
      "text/plain": [
       "<IPython.core.display.HTML object>"
      ]
     },
     "metadata": {},
     "output_type": "display_data"
    }
   ],
   "source": [
    "r.edge_default(width=1)"
   ]
  },
  {
   "cell_type": "markdown",
   "metadata": {},
   "source": [
    "## Estatísticas"
   ]
  },
  {
   "cell_type": "markdown",
   "metadata": {},
   "source": [
    "Agora, devemos ver o tamanho da rede, ou seja, a quantidade de _vertices_ (vértices) e _edges_ (arestas)."
   ]
  },
  {
   "cell_type": "code",
   "execution_count": 18,
   "metadata": {
    "execution": {
     "iopub.execute_input": "2023-10-07T02:25:34.875650Z",
     "iopub.status.busy": "2023-10-07T02:25:34.875474Z",
     "iopub.status.idle": "2023-10-07T02:25:34.883725Z",
     "shell.execute_reply": "2023-10-07T02:25:34.883104Z",
     "shell.execute_reply.started": "2023-10-07T02:25:34.875637Z"
    }
   },
   "outputs": [
    {
     "name": "stdout",
     "output_type": "stream",
     "text": [
      "Número de vértices: 45550\n",
      "Número de arestas: 246755\n"
     ]
    }
   ],
   "source": [
    "print(f\"Número de vértices: {len(g.get_vertices())}\")\n",
    "print(f\"Número de arestas: {len(g.get_edges())}\")"
   ]
  },
  {
   "cell_type": "markdown",
   "metadata": {},
   "source": [
    "Afim de compreender melhor a rede, devemos obter os valores de **densidade** e **transitividade** da rede.\n",
    "\n",
    "A densidade da rede é a razão entre número de pares conectados, dentre todos os pares.\n",
    "\n",
    "Por outro lado, a transitividade aponta a razão de trios de nós que estão conectados, dentre todos os trios, na forma de triângulos."
   ]
  },
  {
   "cell_type": "code",
   "execution_count": 19,
   "metadata": {
    "execution": {
     "iopub.execute_input": "2023-10-07T02:25:34.884771Z",
     "iopub.status.busy": "2023-10-07T02:25:34.884611Z",
     "iopub.status.idle": "2023-10-07T02:25:34.921828Z",
     "shell.execute_reply": "2023-10-07T02:25:34.918529Z",
     "shell.execute_reply.started": "2023-10-07T02:25:34.884757Z"
    }
   },
   "outputs": [
    {
     "name": "stdout",
     "output_type": "stream",
     "text": [
      "Densidade da rede: 0.023786\n",
      "Transitividade da rede: 19.886067\n"
     ]
    }
   ],
   "source": [
    "print(f\"Densidade da rede: {g.density()}\")\n",
    "print(f\"Transitividade da rede: {g.transitivity()}\")"
   ]
  },
  {
   "cell_type": "markdown",
   "metadata": {},
   "source": [
    "Buscamos obter em seguida uma `Series` (_type_ do Pandas), em que cada vértice possui um valor para o número de vizinhos que possui. \n",
    "\n",
    "Em seguida usamos o método describe para obter algumas estatísticas descritivas sobre a distribuição de graus dos vértices. Também plotamos um histograma para visualizar a distribuição de graus."
   ]
  },
  {
   "cell_type": "code",
   "execution_count": 20,
   "metadata": {
    "execution": {
     "iopub.execute_input": "2023-10-07T02:25:34.923311Z",
     "iopub.status.busy": "2023-10-07T02:25:34.923124Z",
     "iopub.status.idle": "2023-10-07T02:25:34.930733Z",
     "shell.execute_reply": "2023-10-07T02:25:34.929906Z",
     "shell.execute_reply.started": "2023-10-07T02:25:34.923295Z"
    }
   },
   "outputs": [],
   "source": [
    "degrees = g.get_total_degrees()"
   ]
  },
  {
   "cell_type": "code",
   "execution_count": 21,
   "metadata": {
    "execution": {
     "iopub.execute_input": "2023-10-07T02:25:34.932537Z",
     "iopub.status.busy": "2023-10-07T02:25:34.932360Z",
     "iopub.status.idle": "2023-10-07T02:25:34.942773Z",
     "shell.execute_reply": "2023-10-07T02:25:34.941961Z",
     "shell.execute_reply.started": "2023-10-07T02:25:34.932522Z"
    }
   },
   "outputs": [
    {
     "data": {
      "text/plain": [
       "count    45550.000000\n",
       "mean        10.834468\n",
       "std         25.831617\n",
       "min          1.000000\n",
       "25%          1.000000\n",
       "50%          3.000000\n",
       "75%         10.000000\n",
       "max       1181.000000\n",
       "dtype: float64"
      ]
     },
     "execution_count": 21,
     "metadata": {},
     "output_type": "execute_result"
    }
   ],
   "source": [
    "degrees.describe()"
   ]
  },
  {
   "cell_type": "code",
   "execution_count": null,
   "metadata": {
    "execution": {
     "iopub.execute_input": "2023-10-07T02:25:34.943369Z",
     "iopub.status.busy": "2023-10-07T02:25:34.943239Z"
    }
   },
   "outputs": [],
   "source": [
    "degrees.hist(bins = int(np.sqrt(len(g.get_edges() ) ) ) );"
   ]
  },
  {
   "cell_type": "markdown",
   "metadata": {},
   "source": [
    "### Power law"
   ]
  },
  {
   "cell_type": "markdown",
   "metadata": {},
   "source": [
    "Vamos verificar se a distribuição de degree é normal ou se segue uma power law. Para isso chamamos as funções not_normal para verificar o p-value de uma normalidade, more_powerlaw_than_lognormal para verificar se a distribuição é mais parecida com uma power law do que com uma lognormal e more_powerlaw_than_exponential para verificar se a distribuição é mais parecida com uma power law do que com uma exponencial."
   ]
  },
  {
   "cell_type": "code",
   "execution_count": null,
   "metadata": {},
   "outputs": [],
   "source": [
    "dst.not_normal(degrees)"
   ]
  },
  {
   "cell_type": "code",
   "execution_count": null,
   "metadata": {},
   "outputs": [],
   "source": [
    "dst.more_powerlaw_than_lognormal(degrees)"
   ]
  },
  {
   "cell_type": "code",
   "execution_count": null,
   "metadata": {},
   "outputs": [],
   "source": [
    "dst.more_powerlaw_than_exponential(degrees)"
   ]
  },
  {
   "cell_type": "markdown",
   "metadata": {},
   "source": [
    "Com isso podemos concluir que a distribuição é, de fato, uma power law."
   ]
  },
  {
   "cell_type": "markdown",
   "metadata": {},
   "source": [
    "### Obtendo a Distribuição de Distância\n",
    "\n",
    "Com os novos métodos describe_distances e get_distances utilizados na disciplina, podemos obter a distribuição de distância da rede sem a necessidade de estratégias de amostragem (pois não armazena as distâncias na memória)."
   ]
  },
  {
   "cell_type": "code",
   "execution_count": null,
   "metadata": {},
   "outputs": [],
   "source": [
    "g.describe_distances()"
   ]
  },
  {
   "cell_type": "code",
   "execution_count": null,
   "metadata": {},
   "outputs": [],
   "source": [
    "g.hist_distances()"
   ]
  }
 ],
 "metadata": {
  "kernelspec": {
   "display_name": "Python 3 (ipykernel)",
   "language": "python",
   "name": "python3"
  },
  "language_info": {
   "codemirror_mode": {
    "name": "ipython",
    "version": 3
   },
   "file_extension": ".py",
   "mimetype": "text/x-python",
   "name": "python",
   "nbconvert_exporter": "python",
   "pygments_lexer": "ipython3",
   "version": "3.11.5"
  }
 },
 "nbformat": 4,
 "nbformat_minor": 4
}
