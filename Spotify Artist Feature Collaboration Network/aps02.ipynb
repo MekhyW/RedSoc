{
 "cells": [
  {
   "cell_type": "markdown",
   "id": "4ce9c031-1c96-4d9d-bd80-1d5b2d5bc745",
   "metadata": {},
   "source": [
    "# Redes Sociais - APS 2\n",
    "\n",
    "### Alunos: Arthur Barreto, Enricco Gemha e Felipe Catapano\n"
   ]
  },
  {
   "cell_type": "markdown",
   "id": "e86fcb55-f899-43ff-961a-59b4b514d4e8",
   "metadata": {},
   "source": [
    "Uma rede de artistas do Spotify que se conectam através de participar em determinada música, que foi topo das paradas em alguma semana no mundo, durante o período de 28/09/2013 a 09/10/2022. Os vértices representam artistas do Spotify e uma aresta não-direcionada indica uma música feita em parceria por dois artistas.\n",
    "\n",
    "_Nota: os grafos são não-dirigidos, conforme informado no agregador de databases [Kaggle](https://www.kaggle.com/datasets/jfreyberg/spotify-artist-feature-collaboration-network), do qual foi extraído a base utilizada aqui._"
   ]
  },
  {
   "cell_type": "markdown",
   "id": "49e6270e-0e80-4d84-a982-5b6b5edac999",
   "metadata": {},
   "source": [
    "## Pré-requisitos"
   ]
  },
  {
   "cell_type": "code",
   "execution_count": null,
   "id": "d3642d09-6843-4ee8-b1ba-ea0c4e4eaba1",
   "metadata": {
    "execution": {
     "iopub.execute_input": "2023-09-18T00:15:09.500245Z",
     "iopub.status.busy": "2023-09-18T00:15:09.499564Z",
     "iopub.status.idle": "2023-09-18T00:15:09.503805Z",
     "shell.execute_reply": "2023-09-18T00:15:09.503215Z",
     "shell.execute_reply.started": "2023-09-18T00:15:09.500216Z"
    }
   },
   "outputs": [],
   "source": [
    "import graph_tool_extras as gte\n",
    "import netpixi\n",
    "from graph_tool import draw\n",
    "import distribution as dst"
   ]
  },
  {
   "cell_type": "code",
   "execution_count": null,
   "id": "6c4825c7-b729-4cfc-b7aa-5e29752d5da5",
   "metadata": {
    "execution": {
     "iopub.execute_input": "2023-09-18T00:15:10.185472Z",
     "iopub.status.busy": "2023-09-18T00:15:10.185022Z",
     "iopub.status.idle": "2023-09-18T00:15:10.188634Z",
     "shell.execute_reply": "2023-09-18T00:15:10.187988Z",
     "shell.execute_reply.started": "2023-09-18T00:15:10.185453Z"
    }
   },
   "outputs": [],
   "source": [
    "PATH = 'edges.csv'"
   ]
  },
  {
   "cell_type": "markdown",
   "id": "6cfb4f88-813b-44ee-a0f9-a989339cca89",
   "metadata": {},
   "source": [
    "## Análise dos dados importados"
   ]
  },
  {
   "cell_type": "markdown",
   "id": "036e2e4b-d1fa-4afd-93fb-8ab1858d560b",
   "metadata": {},
   "source": [
    "O arquivo relevante para nossa análise é `edges.csv`, que representa uma lista de valores separados por _vírgulas_, com uma aresta por linha. O significado de cada coluna do arquivo é:\n",
    "\n",
    "- Primeira coluna: ID do nó de participação em música\n",
    "- Segunda coluna: ID do nó de participação em música\n",
    "\n",
    "Agora, devemos inspecionar os valores armazenados em `edges.csv`:"
   ]
  },
  {
   "cell_type": "code",
   "execution_count": null,
   "id": "b978cc43-7e40-4b56-a764-5abd40d9c119",
   "metadata": {
    "execution": {
     "iopub.execute_input": "2023-09-18T00:15:12.724414Z",
     "iopub.status.busy": "2023-09-18T00:15:12.724209Z",
     "iopub.status.idle": "2023-09-18T00:15:12.747529Z",
     "shell.execute_reply": "2023-09-18T00:15:12.746783Z",
     "shell.execute_reply.started": "2023-09-18T00:15:12.724398Z"
    }
   },
   "outputs": [],
   "source": [
    "with open(PATH) as file:\n",
    "\n",
    "    # cria index de contagem para o loop abaixo.\n",
    "    i = 0\n",
    "    \n",
    "    # ignora o cabeçalho.\n",
    "    next(file)\n",
    "\n",
    "    # Para não sobrecarregar este notebook\n",
    "    # vamos espiar somente as 5 primeiras linhas.\n",
    "    for line in file:\n",
    "\n",
    "        # Transforma a linha em uma lista de partes,\n",
    "        # considerando a vírgula como separador.\n",
    "        parts = line.split(',')\n",
    "\n",
    "        # Imprime o nó A que referencia e o nó B que é referenciado.\n",
    "        print(parts[0], parts[1])\n",
    "\n",
    "        # Para não sobrecarregar este notebook, vamos usar um contador\n",
    "        # e um break para imprimir apenas as cinco primeiras linhas.\n",
    "        i += 1\n",
    "        if i == 5:\n",
    "            break"
   ]
  },
  {
   "cell_type": "markdown",
   "id": "8e53c48a-5e1b-4cf7-931f-7e39620d4a49",
   "metadata": {},
   "source": [
    "## Criação do grafo"
   ]
  },
  {
   "cell_type": "markdown",
   "id": "73bdae5e-d6f0-4867-aa2c-46eefd7568d5",
   "metadata": {
    "execution": {
     "iopub.execute_input": "2023-08-20T19:37:55.240286Z",
     "iopub.status.busy": "2023-08-20T19:37:55.239465Z",
     "iopub.status.idle": "2023-08-20T19:37:55.305094Z",
     "shell.execute_reply": "2023-08-20T19:37:55.303577Z",
     "shell.execute_reply.started": "2023-08-20T19:37:55.240259Z"
    }
   },
   "source": [
    "Utilizaremos a biblioteca [graph-tool](https://graph-tool.skewed.de/) somente para criação e visualização básica dos grafos, sem suporte de nenhum método ou função que não seja essencial."
   ]
  },
  {
   "cell_type": "code",
   "execution_count": null,
   "id": "31688a69-ca4c-490a-84b4-66742a357982",
   "metadata": {
    "execution": {
     "iopub.execute_input": "2023-09-18T00:15:15.176921Z",
     "iopub.status.busy": "2023-09-18T00:15:15.176513Z",
     "iopub.status.idle": "2023-09-18T00:15:15.180794Z",
     "shell.execute_reply": "2023-09-18T00:15:15.180063Z",
     "shell.execute_reply.started": "2023-09-18T00:15:15.176903Z"
    }
   },
   "outputs": [],
   "source": [
    "g = gte.Graph(directed=False) # pois o grafo não é direcionado, como informado acima."
   ]
  },
  {
   "cell_type": "markdown",
   "id": "0121351c-e87e-443c-a777-63032cbfc8cc",
   "metadata": {},
   "source": [
    "Antes, vamos definir duas funções auxiliares para facilitar a adição de novos nós e arestas, respectivamente."
   ]
  },
  {
   "cell_type": "code",
   "execution_count": null,
   "id": "5c6ed088-d0e6-4e7b-989a-b73d12549688",
   "metadata": {
    "execution": {
     "iopub.execute_input": "2023-09-18T00:15:16.259420Z",
     "iopub.status.busy": "2023-09-18T00:15:16.258935Z",
     "iopub.status.idle": "2023-09-18T00:15:16.263823Z",
     "shell.execute_reply": "2023-09-18T00:15:16.262585Z",
     "shell.execute_reply.started": "2023-09-18T00:15:16.259398Z"
    }
   },
   "outputs": [],
   "source": [
    "def get_or_add_vertex(g, id):\n",
    "    u = g.vertex_by_id(id)\n",
    "    if u is None:\n",
    "        u = g.add_vertex_by_id(id)\n",
    "    return u\n",
    "\n",
    "def get_or_add_edge(g, id1, id2):\n",
    "    e = g.edge_by_ids(id1, id2)\n",
    "    if e is None:\n",
    "        e = g.add_edge_by_ids(id1, id2)\n",
    "    return e"
   ]
  },
  {
   "cell_type": "markdown",
   "id": "e08ef845-8fb5-43a3-8353-c067d1130a02",
   "metadata": {},
   "source": [
    "Depois de criar o novo grafo, vamos armazenar os valores de `edges.csv` nele, o transformando em uma rede."
   ]
  },
  {
   "cell_type": "code",
   "execution_count": null,
   "id": "d82b4d2d-c1b4-484e-a78a-6be0d0d0d923",
   "metadata": {
    "execution": {
     "iopub.execute_input": "2023-09-18T00:15:18.168722Z",
     "iopub.status.busy": "2023-09-18T00:15:18.168308Z",
     "iopub.status.idle": "2023-09-18T00:15:26.539122Z",
     "shell.execute_reply": "2023-09-18T00:15:26.538393Z",
     "shell.execute_reply.started": "2023-09-18T00:15:18.168702Z"
    }
   },
   "outputs": [],
   "source": [
    "with open(PATH) as file:\n",
    "\n",
    "    # Cria index de contagem de linhas lidas.\n",
    "    i = 1\n",
    "    \n",
    "    # Ignora o cabeçalho.\n",
    "    next(file)\n",
    "\n",
    "    # Itera linha a linha do arquivo `out.linux`\n",
    "    for line in file:\n",
    "\n",
    "        # Transforma a linha em uma lista de partes,\n",
    "        # considerando a vírgula como separador.\n",
    "        parts = line.split(',')\n",
    "\n",
    "        # Define os IDs de origem e destino.\n",
    "        id1 = str(parts[0])\n",
    "        id2 = str(parts[1])\n",
    "        \n",
    "        # Adiciona os vértices.\n",
    "        get_or_add_vertex(g, id1)\n",
    "        get_or_add_vertex(g, id2)\n",
    "\n",
    "        # Adiciona a aresta correspondente a esta linha.\n",
    "        get_or_add_edge(g, id1, id2)\n",
    "        \n",
    "        # Incrementa o contador de linhas lidas.\n",
    "        i += 1\n",
    "\n",
    "# Imprime a quantidade de linhas lidas.\n",
    "print(f'Foram lidas {i} linhas.') "
   ]
  },
  {
   "cell_type": "markdown",
   "id": "923564fb-7f3c-4fe3-a560-c423b6072e37",
   "metadata": {},
   "source": [
    "A seguir, devemos chamar `draw.sfdp_layout`, passando a rede, para rodar um algoritmo de posicionamento chamado SFDP [[1](#sfdp)].\n",
    "\n",
    "Esse algoritmo usa uma ideia conhecida como [force-directed graph drawing](https://en.wikipedia.org/wiki/Force-directed_graph_drawing) para posicionar os vértices de forma a evidenciar agrupamentos."
   ]
  },
  {
   "cell_type": "code",
   "execution_count": null,
   "id": "137eb50b-e52a-4b4a-be92-fb71175d97d1",
   "metadata": {
    "execution": {
     "iopub.execute_input": "2023-09-18T00:15:26.540716Z",
     "iopub.status.busy": "2023-09-18T00:15:26.540105Z",
     "iopub.status.idle": "2023-09-18T00:41:45.510034Z",
     "shell.execute_reply": "2023-09-18T00:41:45.509173Z",
     "shell.execute_reply.started": "2023-09-18T00:15:26.540697Z"
    }
   },
   "outputs": [],
   "source": [
    "layout = draw.sfdp_layout(g)"
   ]
  },
  {
   "cell_type": "code",
   "execution_count": null,
   "id": "fb4d1179-2d20-4734-95ce-ead89c8f91d0",
   "metadata": {
    "execution": {
     "iopub.execute_input": "2023-09-18T00:44:12.368421Z",
     "iopub.status.busy": "2023-09-18T00:44:12.367963Z",
     "iopub.status.idle": "2023-09-18T00:44:15.090601Z",
     "shell.execute_reply": "2023-09-18T00:44:15.089503Z",
     "shell.execute_reply.started": "2023-09-18T00:44:12.368371Z"
    }
   },
   "outputs": [],
   "source": [
    "gte.move(g, layout)"
   ]
  },
  {
   "cell_type": "markdown",
   "id": "b00c9e76-86e3-4e24-8394-402860042868",
   "metadata": {},
   "source": [
    "## Armazenamento da rede"
   ]
  },
  {
   "cell_type": "markdown",
   "id": "b60cf942-8c2e-40eb-85a1-8b210a134bc2",
   "metadata": {
    "execution": {
     "iopub.execute_input": "2023-08-20T20:27:55.808351Z",
     "iopub.status.busy": "2023-08-20T20:27:55.808009Z",
     "iopub.status.idle": "2023-08-20T20:27:55.815750Z",
     "shell.execute_reply": "2023-08-20T20:27:55.814497Z",
     "shell.execute_reply.started": "2023-08-20T20:27:55.808329Z"
    }
   },
   "source": [
    "Para garantir a segurança da informação processada, devemos guardá-la em um arquivo na mesma pasta deste notebook."
   ]
  },
  {
   "cell_type": "code",
   "execution_count": null,
   "id": "bb6587ad-a233-4dc9-8af1-b47f0ca233b7",
   "metadata": {
    "execution": {
     "iopub.execute_input": "2023-09-18T00:44:15.092088Z",
     "iopub.status.busy": "2023-09-18T00:44:15.091882Z",
     "iopub.status.idle": "2023-09-18T00:44:35.477067Z",
     "shell.execute_reply": "2023-09-18T00:44:35.476180Z",
     "shell.execute_reply.started": "2023-09-18T00:44:15.092072Z"
    }
   },
   "outputs": [],
   "source": [
    "g = gte.clean(g)\n",
    "gte.save(g, 'spotify.net.gz')"
   ]
  },
  {
   "cell_type": "markdown",
   "id": "d3cf04a6-7083-44b8-9994-97ffac7708dc",
   "metadata": {},
   "source": [
    "## Visualização da rede"
   ]
  },
  {
   "cell_type": "markdown",
   "id": "2e6d71c3-c46e-4d33-b3ad-e433ea90eb0c",
   "metadata": {},
   "source": [
    "O próximo passo é a renderização da rede."
   ]
  },
  {
   "cell_type": "code",
   "execution_count": null,
   "id": "baa4ee05-bf7f-4513-8121-2bc0b27e0839",
   "metadata": {
    "execution": {
     "iopub.execute_input": "2023-09-18T00:44:41.137613Z",
     "iopub.status.busy": "2023-09-18T00:44:41.136964Z",
     "iopub.status.idle": "2023-09-18T00:44:41.148289Z",
     "shell.execute_reply": "2023-09-18T00:44:41.147478Z",
     "shell.execute_reply.started": "2023-09-18T00:44:41.137593Z"
    },
    "scrolled": true
   },
   "outputs": [],
   "source": [
    "r = netpixi.render('spotify.net.gz', infinite=True)"
   ]
  },
  {
   "cell_type": "markdown",
   "id": "70806544-40fc-4a4b-9a0e-ecf8e83c6977",
   "metadata": {},
   "source": [
    "Por fim, devemos ajustar a visualização da renderização."
   ]
  },
  {
   "cell_type": "code",
   "execution_count": null,
   "id": "3b13096b-f84f-4910-bb28-cec6aa4063df",
   "metadata": {
    "execution": {
     "iopub.execute_input": "2023-09-18T00:45:09.959213Z",
     "iopub.status.busy": "2023-09-18T00:45:09.958805Z",
     "iopub.status.idle": "2023-09-18T00:45:09.966283Z",
     "shell.execute_reply": "2023-09-18T00:45:09.965119Z",
     "shell.execute_reply.started": "2023-09-18T00:45:09.959186Z"
    }
   },
   "outputs": [],
   "source": [
    "r.vertex_default(size=4, bwidth=1)"
   ]
  },
  {
   "cell_type": "code",
   "execution_count": null,
   "id": "7e6a4ee8-e117-4f40-ac47-303b5266a215",
   "metadata": {
    "execution": {
     "iopub.execute_input": "2023-09-18T00:45:12.110684Z",
     "iopub.status.busy": "2023-09-18T00:45:12.109862Z",
     "iopub.status.idle": "2023-09-18T00:45:12.116189Z",
     "shell.execute_reply": "2023-09-18T00:45:12.115177Z",
     "shell.execute_reply.started": "2023-09-18T00:45:12.110664Z"
    }
   },
   "outputs": [],
   "source": [
    "r.edge_default(width=1)"
   ]
  },
  {
   "cell_type": "markdown",
   "id": "e22817bf-dfb9-4eaf-81ac-6193d10a9c1d",
   "metadata": {},
   "source": [
    "## Estatísticas"
   ]
  },
  {
   "cell_type": "code",
   "execution_count": null,
   "id": "d321a4c9-90d4-4a8b-8052-b06f18cf31f7",
   "metadata": {
    "execution": {
     "iopub.execute_input": "2023-09-18T00:45:14.288740Z",
     "iopub.status.busy": "2023-09-18T00:45:14.288188Z",
     "iopub.status.idle": "2023-09-18T00:45:14.303288Z",
     "shell.execute_reply": "2023-09-18T00:45:14.302334Z",
     "shell.execute_reply.started": "2023-09-18T00:45:14.288721Z"
    }
   },
   "outputs": [],
   "source": [
    "print(f\"Número de vértices: {len(g.get_vertices())}\")\n",
    "print(f\"Número de arestas: {len(g.get_edges())}\")"
   ]
  },
  {
   "cell_type": "code",
   "execution_count": null,
   "id": "e0ada899-1a47-4eed-b37c-4d67ce7426c0",
   "metadata": {
    "execution": {
     "iopub.execute_input": "2023-09-18T00:45:16.434150Z",
     "iopub.status.busy": "2023-09-18T00:45:16.433931Z",
     "iopub.status.idle": "2023-09-18T00:45:16.488830Z",
     "shell.execute_reply": "2023-09-18T00:45:16.487455Z",
     "shell.execute_reply.started": "2023-09-18T00:45:16.434134Z"
    }
   },
   "outputs": [],
   "source": [
    "print(f\"Densidade da rede: {g.density()}\")\n",
    "print(f\"Transitividade da rede: {g.transitivity()}\")"
   ]
  },
  {
   "cell_type": "code",
   "execution_count": null,
   "id": "18fd2b62-284b-4c1b-b8d4-07f1fbb0d832",
   "metadata": {
    "execution": {
     "iopub.execute_input": "2023-09-18T00:45:18.484690Z",
     "iopub.status.busy": "2023-09-18T00:45:18.484474Z",
     "iopub.status.idle": "2023-09-18T00:45:18.499171Z",
     "shell.execute_reply": "2023-09-18T00:45:18.497605Z",
     "shell.execute_reply.started": "2023-09-18T00:45:18.484674Z"
    }
   },
   "outputs": [],
   "source": [
    "degrees = g.get_total_degrees()"
   ]
  },
  {
   "cell_type": "code",
   "execution_count": null,
   "id": "6e2b04b4-0e45-462e-ab99-a19fac365c01",
   "metadata": {
    "execution": {
     "iopub.execute_input": "2023-09-18T00:45:19.301304Z",
     "iopub.status.busy": "2023-09-18T00:45:19.301046Z",
     "iopub.status.idle": "2023-09-18T00:45:19.343184Z",
     "shell.execute_reply": "2023-09-18T00:45:19.342277Z",
     "shell.execute_reply.started": "2023-09-18T00:45:19.301283Z"
    }
   },
   "outputs": [],
   "source": [
    "degrees.describe()"
   ]
  },
  {
   "cell_type": "code",
   "execution_count": null,
   "id": "11d16ba0-5bbd-44bc-9880-c937b8062368",
   "metadata": {
    "execution": {
     "iopub.execute_input": "2023-09-18T00:45:20.586770Z",
     "iopub.status.busy": "2023-09-18T00:45:20.586544Z",
     "iopub.status.idle": "2023-09-18T00:45:20.788536Z",
     "shell.execute_reply": "2023-09-18T00:45:20.787327Z",
     "shell.execute_reply.started": "2023-09-18T00:45:20.586755Z"
    }
   },
   "outputs": [],
   "source": [
    "degrees.hist(bins=[1, 2, 3, 4, 5, 6, 7, 8, 9, 10]);"
   ]
  },
  {
   "cell_type": "code",
   "execution_count": null,
   "id": "bc3b81b1-43a3-4d10-a9ba-7a39ef9e7c49",
   "metadata": {
    "execution": {
     "iopub.execute_input": "2023-09-18T00:45:23.599396Z",
     "iopub.status.busy": "2023-09-18T00:45:23.598614Z",
     "iopub.status.idle": "2023-09-18T00:45:23.614186Z",
     "shell.execute_reply": "2023-09-18T00:45:23.613338Z",
     "shell.execute_reply.started": "2023-09-18T00:45:23.599378Z"
    }
   },
   "outputs": [],
   "source": [
    "dst.not_normal(degrees)"
   ]
  },
  {
   "cell_type": "code",
   "execution_count": null,
   "id": "45051f41-2922-4cf0-bff8-56ee26f9185c",
   "metadata": {
    "execution": {
     "iopub.execute_input": "2023-09-18T00:45:24.551413Z",
     "iopub.status.busy": "2023-09-18T00:45:24.551166Z",
     "iopub.status.idle": "2023-09-18T00:45:24.629830Z",
     "shell.execute_reply": "2023-09-18T00:45:24.628706Z",
     "shell.execute_reply.started": "2023-09-18T00:45:24.551397Z"
    }
   },
   "outputs": [],
   "source": [
    "dst.more_powerlaw_than_lognormal(degrees)"
   ]
  },
  {
   "cell_type": "code",
   "execution_count": null,
   "id": "025d39a3-1704-4c8f-94ac-11c631de7834",
   "metadata": {
    "execution": {
     "iopub.execute_input": "2023-09-18T00:45:25.831691Z",
     "iopub.status.busy": "2023-09-18T00:45:25.831427Z",
     "iopub.status.idle": "2023-09-18T00:45:25.878376Z",
     "shell.execute_reply": "2023-09-18T00:45:25.876954Z",
     "shell.execute_reply.started": "2023-09-18T00:45:25.831676Z"
    }
   },
   "outputs": [],
   "source": [
    "dst.more_powerlaw_than_exponential(degrees)"
   ]
  },
  {
   "cell_type": "code",
   "execution_count": null,
   "id": "37f1d13f-4cf8-4871-91d9-f8d1cd4a8260",
   "metadata": {
    "execution": {
     "iopub.execute_input": "2023-09-18T00:45:28.135581Z",
     "iopub.status.busy": "2023-09-18T00:45:28.135353Z",
     "iopub.status.idle": "2023-09-18T00:45:28.233883Z",
     "shell.execute_reply": "2023-09-18T00:45:28.232348Z",
     "shell.execute_reply.started": "2023-09-18T00:45:28.135563Z"
    }
   },
   "outputs": [],
   "source": [
    "distances = g.get_distances()"
   ]
  },
  {
   "cell_type": "code",
   "execution_count": null,
   "id": "dc1fb4cb-f1b9-4a74-8df3-2521845b88f2",
   "metadata": {},
   "outputs": [],
   "source": [
    "distances.describe()"
   ]
  },
  {
   "cell_type": "code",
   "execution_count": null,
   "id": "78e3ba53-a8ab-406d-ab84-311c4179bd71",
   "metadata": {},
   "outputs": [],
   "source": [
    "distances.hist();"
   ]
  },
  {
   "cell_type": "code",
   "execution_count": null,
   "id": "d6782302-8c0f-468d-8771-931fd2216150",
   "metadata": {},
   "outputs": [],
   "source": []
  }
 ],
 "metadata": {
  "kernelspec": {
   "display_name": "Python 3 (ipykernel)",
   "language": "python",
   "name": "python3"
  },
  "language_info": {
   "codemirror_mode": {
    "name": "ipython",
    "version": 3
   },
   "file_extension": ".py",
   "mimetype": "text/x-python",
   "name": "python",
   "nbconvert_exporter": "python",
   "pygments_lexer": "ipython3",
   "version": "3.11.5"
  }
 },
 "nbformat": 4,
 "nbformat_minor": 5
}
