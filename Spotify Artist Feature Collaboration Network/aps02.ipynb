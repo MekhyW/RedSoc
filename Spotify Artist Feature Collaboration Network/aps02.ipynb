{
 "cells": [
  {
   "cell_type": "markdown",
   "id": "4ce9c031-1c96-4d9d-bd80-1d5b2d5bc745",
   "metadata": {},
   "source": [
    "# Redes Sociais - APS 2\n",
    "\n",
    "### Alunos: Arthur Barreto, Enricco Gemha e Felipe Catapano\n"
   ]
  },
  {
   "cell_type": "markdown",
   "id": "e86fcb55-f899-43ff-961a-59b4b514d4e8",
   "metadata": {},
   "source": [
    "Uma rede de artistas do Spotify que se conectam através de participar em determinada música, que foi topo das paradas em alguma semana no mundo, durante o período de 28/09/2013 a 09/10/2022. Os vértices representam artistas do Spotify e uma aresta não-direcionada indica uma música feita em parceria por dois artistas.\n",
    "\n",
    "_Nota: os grafos são não-dirigidos, conforme informado no agregador de databases [Kaggle](https://www.kaggle.com/datasets/jfreyberg/spotify-artist-feature-collaboration-network), do qual foi extraído a base utilizada aqui._"
   ]
  },
  {
   "cell_type": "markdown",
   "id": "49e6270e-0e80-4d84-a982-5b6b5edac999",
   "metadata": {},
   "source": [
    "## Pré-requisitos"
   ]
  },
  {
   "cell_type": "code",
   "execution_count": null,
   "id": "d3642d09-6843-4ee8-b1ba-ea0c4e4eaba1",
   "metadata": {},
   "outputs": [],
   "source": [
    "import graph_tool_extras as gte\n",
    "import netpixi\n",
    "from graph_tool import draw\n",
    "import distribution as dst"
   ]
  },
  {
   "cell_type": "code",
   "execution_count": null,
   "id": "6c4825c7-b729-4cfc-b7aa-5e29752d5da5",
   "metadata": {},
   "outputs": [],
   "source": [
    "PATH = 'edges.csv'\n",
    "PATH_NOS = 'nodes.csv'"
   ]
  },
  {
   "cell_type": "markdown",
   "id": "6cfb4f88-813b-44ee-a0f9-a989339cca89",
   "metadata": {},
   "source": [
    "## Análise dos dados importados"
   ]
  },
  {
   "cell_type": "markdown",
   "id": "036e2e4b-d1fa-4afd-93fb-8ab1858d560b",
   "metadata": {},
   "source": [
    "O arquivo relevante à análise inicial é `edges.csv`, que representa uma lista de valores separados por _vírgulas_, com uma aresta por linha. O significado de cada coluna do arquivo é:\n",
    "\n",
    "- Primeira coluna: ID do nó de participação em música\n",
    "- Segunda coluna: ID do nó de participação em música"
   ]
  },
  {
   "cell_type": "code",
   "execution_count": null,
   "id": "b978cc43-7e40-4b56-a764-5abd40d9c119",
   "metadata": {},
   "outputs": [],
   "source": [
    "with open(PATH) as file:\n",
    "\n",
    "    # cria index de contagem para o loop abaixo.\n",
    "    i = 0\n",
    "    \n",
    "    # ignora o cabeçalho.\n",
    "    next(file)\n",
    "\n",
    "    # Para não sobrecarregar este notebook\n",
    "    # vamos espiar somente as 5 primeiras linhas.\n",
    "    for line in file:\n",
    "\n",
    "        # Transforma a linha em uma lista de partes,\n",
    "        # considerando a vírgula como separador.\n",
    "        parts = line.split(',')\n",
    "        no1 = parts[0]\n",
    "        no2 = parts[1].replace('\\n', '')\n",
    "\n",
    "        print(f'{no1} - {no2}')\n",
    "        \n",
    "        # Para não sobrecarregar este notebook, vamos usar um contador\n",
    "        # e um break para imprimir apenas as cinco primeiras linhas.\n",
    "        i += 1\n",
    "        if i == 5:\n",
    "            break"
   ]
  },
  {
   "cell_type": "markdown",
   "id": "8e53c48a-5e1b-4cf7-931f-7e39620d4a49",
   "metadata": {},
   "source": [
    "## Criação do grafo"
   ]
  },
  {
   "cell_type": "markdown",
   "id": "73bdae5e-d6f0-4867-aa2c-46eefd7568d5",
   "metadata": {
    "execution": {
     "iopub.execute_input": "2023-08-20T19:37:55.240286Z",
     "iopub.status.busy": "2023-08-20T19:37:55.239465Z",
     "iopub.status.idle": "2023-08-20T19:37:55.305094Z",
     "shell.execute_reply": "2023-08-20T19:37:55.303577Z",
     "shell.execute_reply.started": "2023-08-20T19:37:55.240259Z"
    }
   },
   "source": [
    "Utilizaremos a biblioteca [graph-tool](https://graph-tool.skewed.de/) somente para criação e visualização básica dos grafos, sem suporte de nenhum método ou função que não seja essencial."
   ]
  },
  {
   "cell_type": "code",
   "execution_count": null,
   "id": "31688a69-ca4c-490a-84b4-66742a357982",
   "metadata": {},
   "outputs": [],
   "source": [
    "g = gte.Graph(directed=False) # pois o grafo não é direcionado, como informado acima."
   ]
  },
  {
   "cell_type": "markdown",
   "id": "0121351c-e87e-443c-a777-63032cbfc8cc",
   "metadata": {},
   "source": [
    "Antes, vamos definir duas funções auxiliares para facilitar a adição de novos nós e arestas, respectivamente."
   ]
  },
  {
   "cell_type": "code",
   "execution_count": null,
   "id": "5c6ed088-d0e6-4e7b-989a-b73d12549688",
   "metadata": {},
   "outputs": [],
   "source": [
    "def get_or_add_vertex(g, id):\n",
    "    u = g.vertex_by_id(id)\n",
    "    if u is None:\n",
    "        u = g.add_vertex_by_id(id)\n",
    "    return u\n",
    "\n",
    "def get_or_add_edge(g, id1, id2):\n",
    "    e = g.edge_by_ids(id1, id2)\n",
    "    if e is None:\n",
    "        e = g.add_edge_by_ids(id1, id2)\n",
    "    return e"
   ]
  },
  {
   "cell_type": "markdown",
   "id": "e08ef845-8fb5-43a3-8353-c067d1130a02",
   "metadata": {},
   "source": [
    "Depois de criar o novo grafo, vamos armazenar os valores de `edges.csv` nele, o transformando em uma rede."
   ]
  },
  {
   "cell_type": "code",
   "execution_count": null,
   "id": "d82b4d2d-c1b4-484e-a78a-6be0d0d0d923",
   "metadata": {},
   "outputs": [],
   "source": [
    "with open(PATH) as file:\n",
    "\n",
    "    # Cria index de contagem de linhas lidas.\n",
    "    i = 1\n",
    "    \n",
    "    # Ignora o cabeçalho.\n",
    "    next(file)\n",
    "\n",
    "    # Itera linha a linha do arquivo `out.linux`\n",
    "    for line in file:\n",
    "\n",
    "        # Transforma a linha em uma lista de partes,\n",
    "        # considerando a vírgula como separador.\n",
    "        parts = line.split(',')\n",
    "\n",
    "        # Define os IDs de origem e destino.\n",
    "        no1 = parts[0]\n",
    "        no2 = parts[1].replace('\\n', '')\n",
    "\n",
    "        # Adiciona os vértices.\n",
    "        get_or_add_vertex(g, no1)\n",
    "        get_or_add_vertex(g, no2)\n",
    "    \n",
    "        # Adiciona a aresta correspondente a esta linha.\n",
    "        get_or_add_edge(g, no1, no2)\n",
    "        \n",
    "        # Incrementa o contador de linhas lidas.\n",
    "        i += 1\n",
    "\n",
    "# Imprime a quantidade de linhas lidas.\n",
    "print(f'Foram lidas {i} linhas.') "
   ]
  },
  {
   "cell_type": "markdown",
   "id": "923564fb-7f3c-4fe3-a560-c423b6072e37",
   "metadata": {},
   "source": [
    "A seguir, devemos chamar `draw.sfdp_layout`, passando a rede, para rodar um algoritmo de posicionamento chamado SFDP [[1](#sfdp)].\n",
    "\n",
    "Esse algoritmo usa uma ideia conhecida como [force-directed graph drawing](https://en.wikipedia.org/wiki/Force-directed_graph_drawing) para posicionar os vértices de forma a evidenciar agrupamentos."
   ]
  },
  {
   "cell_type": "code",
   "execution_count": null,
   "id": "137eb50b-e52a-4b4a-be92-fb71175d97d1",
   "metadata": {
    "editable": true,
    "slideshow": {
     "slide_type": ""
    },
    "tags": []
   },
   "outputs": [],
   "source": [
    "layout = draw.sfdp_layout(g)"
   ]
  },
  {
   "cell_type": "code",
   "execution_count": null,
   "id": "fb4d1179-2d20-4734-95ce-ead89c8f91d0",
   "metadata": {},
   "outputs": [],
   "source": [
    "gte.move(g, layout)"
   ]
  },
  {
   "cell_type": "markdown",
   "id": "b00c9e76-86e3-4e24-8394-402860042868",
   "metadata": {
    "editable": true,
    "slideshow": {
     "slide_type": ""
    },
    "tags": []
   },
   "source": [
    "## Armazenamento da rede"
   ]
  },
  {
   "cell_type": "markdown",
   "id": "b60cf942-8c2e-40eb-85a1-8b210a134bc2",
   "metadata": {
    "execution": {
     "iopub.execute_input": "2023-08-20T20:27:55.808351Z",
     "iopub.status.busy": "2023-08-20T20:27:55.808009Z",
     "iopub.status.idle": "2023-08-20T20:27:55.815750Z",
     "shell.execute_reply": "2023-08-20T20:27:55.814497Z",
     "shell.execute_reply.started": "2023-08-20T20:27:55.808329Z"
    }
   },
   "source": [
    "Para garantir a segurança da informação processada, devemos guardá-la em um arquivo na mesma pasta deste notebook."
   ]
  },
  {
   "cell_type": "code",
   "execution_count": null,
   "id": "bb6587ad-a233-4dc9-8af1-b47f0ca233b7",
   "metadata": {},
   "outputs": [],
   "source": [
    "g = gte.clean(g)\n",
    "gte.save(g, 'spotify.net.gz')"
   ]
  },
  {
   "cell_type": "markdown",
   "id": "d3cf04a6-7083-44b8-9994-97ffac7708dc",
   "metadata": {},
   "source": [
    "## Visualização da rede"
   ]
  },
  {
   "cell_type": "markdown",
   "id": "2e6d71c3-c46e-4d33-b3ad-e433ea90eb0c",
   "metadata": {},
   "source": [
    "O próximo passo é a renderização da rede."
   ]
  },
  {
   "cell_type": "code",
   "execution_count": null,
   "id": "baa4ee05-bf7f-4513-8121-2bc0b27e0839",
   "metadata": {},
   "outputs": [],
   "source": [
    "r = netpixi.render('spotify.net.gz', infinite=True)"
   ]
  },
  {
   "cell_type": "markdown",
   "id": "70806544-40fc-4a4b-9a0e-ecf8e83c6977",
   "metadata": {},
   "source": [
    "Por fim, devemos ajustar a visualização da renderização."
   ]
  },
  {
   "cell_type": "code",
   "execution_count": null,
   "id": "3b13096b-f84f-4910-bb28-cec6aa4063df",
   "metadata": {},
   "outputs": [],
   "source": [
    "r.vertex_default(size=4, bwidth=1)"
   ]
  },
  {
   "cell_type": "code",
   "execution_count": null,
   "id": "7e6a4ee8-e117-4f40-ac47-303b5266a215",
   "metadata": {},
   "outputs": [],
   "source": [
    "r.edge_default(width=1)"
   ]
  },
  {
   "cell_type": "markdown",
   "id": "e22817bf-dfb9-4eaf-81ac-6193d10a9c1d",
   "metadata": {},
   "source": [
    "## Estatísticas"
   ]
  },
  {
   "cell_type": "markdown",
   "id": "fa47bea6",
   "metadata": {},
   "source": [
    "Agora, devemos ver o tamanho da rede, ou seja, a quantidade de _nodes_ (nós) e _edges_ (arestas)."
   ]
  },
  {
   "cell_type": "code",
   "execution_count": null,
   "id": "d321a4c9-90d4-4a8b-8052-b06f18cf31f7",
   "metadata": {},
   "outputs": [],
   "source": [
    "n = len(g.get_vertices())\n",
    "m = len(g.get_edges())\n",
    "print(f\"Número de nós: {n}\")\n",
    "print(f\"Número de arestas: {m}\")"
   ]
  },
  {
   "cell_type": "markdown",
   "id": "b27add67-8a2a-4fed-91d6-5fd869c51500",
   "metadata": {
    "editable": true,
    "slideshow": {
     "slide_type": ""
    },
    "tags": []
   },
   "source": [
    "Afim de compreender melhor a rede, devemos obter os valores de **densidade** e **transitividade** da rede.\n",
    "\n",
    "A densidade da rede é a razão entre número de pares conectados, dentre todos os pares.\n",
    "\n",
    "Por outro lado, a transitividade aponta a razão de trios de nós que estão conectados, dentre todos os trios, na forma de triângulos.\n",
    "\n",
    "*obs: calculamos \"na mão\" o valor da densidade porque o valor é truncado pelo método `density()` do graph-tool.*"
   ]
  },
  {
   "cell_type": "code",
   "execution_count": null,
   "id": "7950722c-ebad-4826-aa09-5f65f3fb6455",
   "metadata": {},
   "outputs": [],
   "source": [
    "m_max = n*(n-1)/2 # fórmula de m_max para grafos não dirigidos\n",
    "densidade_g = m/m_max # fórmula da densidade de um grafo\n",
    "print(f\"Densidade da rede: {(densidade_g*100):e}%\") # valor em notação científica\n",
    "print(f\"Transitividade da rede: {g.transitivity()}%\")"
   ]
  },
  {
   "cell_type": "markdown",
   "id": "b4f30c07-a9c5-454e-8d93-6d6b047183b1",
   "metadata": {},
   "source": [
    "Buscamos obter em seguida uma `Series` (_type_ do Pandas), em que cada vértice possui um valor para o número de vizinhos que possui. "
   ]
  },
  {
   "cell_type": "code",
   "execution_count": null,
   "id": "18fd2b62-284b-4c1b-b8d4-07f1fbb0d832",
   "metadata": {
    "editable": true,
    "slideshow": {
     "slide_type": ""
    },
    "tags": []
   },
   "outputs": [],
   "source": [
    "degrees = g.get_total_degrees() # obtem a quantidade de vizinhos dos vértices"
   ]
  },
  {
   "cell_type": "code",
   "execution_count": null,
   "id": "6e2b04b4-0e45-462e-ab99-a19fac365c01",
   "metadata": {
    "editable": true,
    "slideshow": {
     "slide_type": ""
    },
    "tags": []
   },
   "outputs": [],
   "source": [
    "degrees.describe() # por ser uma série do Pandas, utilizamos o método describe()"
   ]
  },
  {
   "cell_type": "code",
   "execution_count": null,
   "id": "11d16ba0-5bbd-44bc-9880-c937b8062368",
   "metadata": {},
   "outputs": [],
   "source": [
    "import numpy as np\n",
    "degrees.hist(bins = np.arange(1,11,1));"
   ]
  },
  {
   "cell_type": "code",
   "execution_count": null,
   "id": "bc3b81b1-43a3-4d10-a9ba-7a39ef9e7c49",
   "metadata": {},
   "outputs": [],
   "source": [
    "dst.not_normal(degrees)"
   ]
  },
  {
   "cell_type": "code",
   "execution_count": null,
   "id": "45051f41-2922-4cf0-bff8-56ee26f9185c",
   "metadata": {},
   "outputs": [],
   "source": [
    "dst.more_powerlaw_than_lognormal(degrees)"
   ]
  },
  {
   "cell_type": "code",
   "execution_count": null,
   "id": "025d39a3-1704-4c8f-94ac-11c631de7834",
   "metadata": {},
   "outputs": [],
   "source": [
    "dst.more_powerlaw_than_exponential(degrees)"
   ]
  },
  {
   "cell_type": "markdown",
   "id": "2b3ab129-e98c-4dab-8908-e2ee34a6da58",
   "metadata": {},
   "source": [
    "### Estratificando a amostra pelo número de nós\n",
    "\n",
    "Devido ao fato do método distance ser $O(n^2)$ é necessário estratificar para que o algoritmo consiga rodar (já que não há memória RAM suficiente disponível)."
   ]
  },
  {
   "cell_type": "code",
   "execution_count": null,
   "id": "7d9863c2-911d-4f10-9189-860e290c77f2",
   "metadata": {},
   "outputs": [],
   "source": [
    "dict_nos = {}\n",
    "\n",
    "with open(PATH_NOS) as file:\n",
    "\n",
    "    # cria index de contagem para o loop abaixo.\n",
    "    i = 0\n",
    "    \n",
    "    # ignora o cabeçalho.\n",
    "    next(file)\n",
    "\n",
    "    # Para não sobrecarregar este notebook\n",
    "    # vamos espiar somente as 5 primeiras linhas.\n",
    "    for line in file:\n",
    "\n",
    "        # Transforma a linha em uma lista de partes,\n",
    "        # considerando a vírgula como separador.\n",
    "        parts = line.split(',')\n",
    "\n",
    "        id = parts[0]\n",
    "\n",
    "        if id not in dict_nos:\n",
    "            dict_nos[id] = i\n",
    "            i += 1\n",
    "\n",
    "print(f'Contamos {i} nós!')\n",
    "print(f'O dicionário tem {len(list(dict_nos.keys()))} chaves')"
   ]
  },
  {
   "cell_type": "markdown",
   "id": "b38ceda2-b9e8-4f4a-a280-049309afc8a3",
   "metadata": {},
   "source": [
    "Visualizando os valores do dicionário:"
   ]
  },
  {
   "cell_type": "code",
   "execution_count": null,
   "id": "5c504635-ed37-43a5-bd25-e9731ffea7b7",
   "metadata": {},
   "outputs": [],
   "source": [
    "list(dict_nos.keys())[:5]"
   ]
  },
  {
   "cell_type": "code",
   "execution_count": null,
   "id": "607b92e9-d285-4eaf-b513-5d55cb11fc71",
   "metadata": {},
   "outputs": [],
   "source": [
    "list(dict_nos.values())[:5]"
   ]
  },
  {
   "cell_type": "markdown",
   "id": "43ab68a7-ca00-4a08-a40e-4eba53a2081c",
   "metadata": {},
   "source": [
    "A abordagem será sortear indices, que variam de 1 até a quantidade de nós `i`. Após isso, basta verificar os índices sorteados que estão na lista de valores do dicionário criado.\n",
    "\n",
    "Selecionamos, portanto, 15.000 nós aleatórios, para que não estouremos a quantidade limite em memória RAM."
   ]
  },
  {
   "cell_type": "code",
   "execution_count": null,
   "id": "852af956-a3c0-4b70-9b14-85d00e2f30c9",
   "metadata": {},
   "outputs": [],
   "source": [
    "import numpy as np\n",
    "from numpy.random import choice\n",
    "\n",
    "lisIdx = np.arange(1, i + 1, 1)\n",
    "lisProb = np.ones(shape=len(lisIdx), dtype=lisIdx.dtype)\n",
    "lisProb = np.divide(lisProb, len(lisProb))\n",
    "idxSort = choice(lisIdx, int(15e3), p = lisProb, replace = False)\n",
    "idxSort.sort()\n",
    "idxSort[:5]"
   ]
  },
  {
   "cell_type": "markdown",
   "id": "c4799fd5-41de-4c79-8488-adabec5ea416",
   "metadata": {},
   "source": [
    "Para facilitar a verificação dos nos considerados, basta inverter o dicionário, desta forma, as chaves serão os índices e os valores os nós em si."
   ]
  },
  {
   "cell_type": "code",
   "execution_count": null,
   "id": "2d17e18a-8038-4b56-be4f-089961f20964",
   "metadata": {},
   "outputs": [],
   "source": [
    "idx_no = {v: k for k, v in dict_nos.items()}"
   ]
  },
  {
   "cell_type": "code",
   "execution_count": null,
   "id": "aa397d10-8fda-4e69-b08b-d744ea11d095",
   "metadata": {},
   "outputs": [],
   "source": [
    "list(idx_no.keys())[:5], list(idx_no.values())[:5]"
   ]
  },
  {
   "cell_type": "code",
   "execution_count": null,
   "id": "7a65bdad-7a23-4d47-83a1-ea51c7488254",
   "metadata": {},
   "outputs": [],
   "source": [
    "noStrat = {idx_no[idx]: idx for idx in idxSort}"
   ]
  },
  {
   "cell_type": "code",
   "execution_count": null,
   "id": "5dc56ede-3dfd-40b8-8fd4-60e16c63c582",
   "metadata": {},
   "outputs": [],
   "source": [
    "list(noStrat.values())[:5]"
   ]
  },
  {
   "cell_type": "markdown",
   "id": "20cb5399",
   "metadata": {},
   "source": [
    "### Criando um novo grafo `g_strat`"
   ]
  },
  {
   "cell_type": "markdown",
   "id": "cbe29b57-f7e2-4269-b3ac-5337aad2d438",
   "metadata": {},
   "source": [
    "Realizamos abaixo o mesmo procedimento que foi aplicado ao grafo principal `g`, com a diferença de que agora estaremos utilizando somente os nós estratificados, salvando em `g_strat`."
   ]
  },
  {
   "cell_type": "code",
   "execution_count": null,
   "id": "b9f99ccf",
   "metadata": {},
   "outputs": [],
   "source": [
    "g_strat = gte.Graph(directed=False) # pois o grafo não é direcionado, como informado acima."
   ]
  },
  {
   "cell_type": "code",
   "execution_count": null,
   "id": "f37d366b",
   "metadata": {},
   "outputs": [],
   "source": [
    "with open(PATH) as file:\n",
    "\n",
    "    # Cria index de contagem de linhas lidas.\n",
    "    i = 1\n",
    "    j = 0\n",
    "    \n",
    "    # Ignora o cabeçalho.\n",
    "    next(file)\n",
    "\n",
    "    # Itera linha a linha do arquivo\n",
    "    for line in file:\n",
    "\n",
    "        # Transforma a linha em uma lista de partes,\n",
    "        # considerando a vírgula como separador.\n",
    "        parts = line.split(',')\n",
    "\n",
    "        # Define os IDs de origem e destino.\n",
    "        no1 = parts[0]\n",
    "        no2 = parts[1].replace('\\n', '')\n",
    "\n",
    "        if (no1 and no2) in noStrat:\n",
    "            # Adiciona os vértices somente para os nós estratificados.\n",
    "            get_or_add_vertex(g_strat, no1)\n",
    "            get_or_add_vertex(g_strat, no2)\n",
    "    \n",
    "            # Adiciona a aresta correspondente a esta linha.\n",
    "            get_or_add_edge(g_strat, no1, no2)\n",
    "\n",
    "            j += 1\n",
    "        \n",
    "        # Incrementa o contador de linhas lidas.\n",
    "        i += 1\n",
    "\n",
    "# Imprime a quantidade de linhas lidas.\n",
    "print(f'Foram lidas {i} linhas.') \n",
    "print(f'Foram considerados {j} arestas')"
   ]
  },
  {
   "cell_type": "code",
   "execution_count": null,
   "id": "bd2d2894",
   "metadata": {},
   "outputs": [],
   "source": [
    "layout_strat = draw.sfdp_layout(g_strat)"
   ]
  },
  {
   "cell_type": "code",
   "execution_count": null,
   "id": "fdb72e33",
   "metadata": {},
   "outputs": [],
   "source": [
    "gte.move(g_strat, layout_strat)"
   ]
  },
  {
   "cell_type": "code",
   "execution_count": null,
   "id": "cdce1d54",
   "metadata": {},
   "outputs": [],
   "source": [
    "g_strat = gte.clean(g_strat)\n",
    "gte.save(g_strat, 'spotify_strat.net.gz')"
   ]
  },
  {
   "cell_type": "markdown",
   "id": "74f3dc6b-dd86-49ba-a24b-65a2c2fd76e0",
   "metadata": {
    "editable": true,
    "slideshow": {
     "slide_type": ""
    },
    "tags": []
   },
   "source": [
    "### Obtendo a Distribuição de Distância"
   ]
  },
  {
   "cell_type": "code",
   "execution_count": null,
   "id": "37f1d13f-4cf8-4871-91d9-f8d1cd4a8260",
   "metadata": {},
   "outputs": [],
   "source": [
    "distances = g_strat.get_distances()"
   ]
  },
  {
   "cell_type": "code",
   "execution_count": null,
   "id": "dc1fb4cb-f1b9-4a74-8df3-2521845b88f2",
   "metadata": {},
   "outputs": [],
   "source": [
    "distances.describe()"
   ]
  },
  {
   "cell_type": "code",
   "execution_count": null,
   "id": "78e3ba53-a8ab-406d-ab84-311c4179bd71",
   "metadata": {},
   "outputs": [],
   "source": [
    "distances.hist();"
   ]
  },
  {
   "cell_type": "code",
   "execution_count": null,
   "id": "b726a54f",
   "metadata": {},
   "outputs": [],
   "source": []
  }
 ],
 "metadata": {
  "kernelspec": {
   "display_name": "Python 3 (ipykernel)",
   "language": "python",
   "name": "python3"
  },
  "language_info": {
   "codemirror_mode": {
    "name": "ipython",
    "version": 3
   },
   "file_extension": ".py",
   "mimetype": "text/x-python",
   "name": "python",
   "nbconvert_exporter": "python",
   "pygments_lexer": "ipython3",
   "version": "3.11.5"
  }
 },
 "nbformat": 4,
 "nbformat_minor": 5
}
