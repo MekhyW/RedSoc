{
 "cells": [
  {
   "cell_type": "markdown",
   "id": "4ce9c031-1c96-4d9d-bd80-1d5b2d5bc745",
   "metadata": {},
   "source": [
    "# Redes Sociais - APS 1\n"
   ]
  },
  {
   "cell_type": "markdown",
   "id": "e86fcb55-f899-43ff-961a-59b4b514d4e8",
   "metadata": {},
   "source": [
    "Uma rede de inclusão de arquivo de código-fonte Linux (v3.16). Os vértices representam arquivos fonte e uma aresta direcionada indica se um arquivo inclui outro.\n",
    "\n",
    "_Nota: os grafos são dirigidos, conforme informado no agregador de databases [Netzschleuder](https://networks.skewed.de/), do qual foi extraído a base utilizada aqui._"
   ]
  },
  {
   "cell_type": "markdown",
   "id": "49e6270e-0e80-4d84-a982-5b6b5edac999",
   "metadata": {},
   "source": [
    "## Pré-requisitos"
   ]
  },
  {
   "cell_type": "code",
   "execution_count": 1,
   "id": "d3642d09-6843-4ee8-b1ba-ea0c4e4eaba1",
   "metadata": {
    "execution": {
     "iopub.execute_input": "2023-08-29T02:16:42.914430Z",
     "iopub.status.busy": "2023-08-29T02:16:42.913873Z",
     "iopub.status.idle": "2023-08-29T02:16:45.028515Z",
     "shell.execute_reply": "2023-08-29T02:16:45.027379Z",
     "shell.execute_reply.started": "2023-08-29T02:16:42.914391Z"
    }
   },
   "outputs": [
    {
     "data": {
      "text/html": [
       "\n",
       "    <script src=\"/static/.hidden/netpixi.min.js\"></script>\n"
      ],
      "text/plain": [
       "<IPython.core.display.HTML object>"
      ]
     },
     "metadata": {},
     "output_type": "display_data"
    }
   ],
   "source": [
    "import graph_tool_extras as gte\n",
    "import netpixi\n",
    "from graph_tool import draw"
   ]
  },
  {
   "cell_type": "code",
   "execution_count": 2,
   "id": "6c4825c7-b729-4cfc-b7aa-5e29752d5da5",
   "metadata": {
    "execution": {
     "iopub.execute_input": "2023-08-29T02:16:45.029791Z",
     "iopub.status.busy": "2023-08-29T02:16:45.029442Z",
     "iopub.status.idle": "2023-08-29T02:16:45.034244Z",
     "shell.execute_reply": "2023-08-29T02:16:45.032767Z",
     "shell.execute_reply.started": "2023-08-29T02:16:45.029774Z"
    }
   },
   "outputs": [],
   "source": [
    "PATH = 'edges.csv'"
   ]
  },
  {
   "cell_type": "markdown",
   "id": "6cfb4f88-813b-44ee-a0f9-a989339cca89",
   "metadata": {},
   "source": [
    "## Verificação dos dados importados"
   ]
  },
  {
   "cell_type": "markdown",
   "id": "036e2e4b-d1fa-4afd-93fb-8ab1858d560b",
   "metadata": {},
   "source": [
    "O arquivo relevante para nossa análise é `edges.csv`, que representa uma lista de valores separados por _vírgulas_, com uma aresta por linha. O significado de cada coluna do arquivo é:\n",
    "\n",
    "- Primeira coluna: ID do nó de origem (_source_)\n",
    "\n",
    "- Segunda coluna: ID do nó de destino (_target_)\n",
    "\n",
    "Agora, devemos inspecionar os valores armazenados em `edges.csv` (vamos imprimir as 5 primeiras linhas do arquivo, para não sobrecarregar este notebook):"
   ]
  },
  {
   "cell_type": "code",
   "execution_count": 3,
   "id": "b978cc43-7e40-4b56-a764-5abd40d9c119",
   "metadata": {
    "execution": {
     "iopub.execute_input": "2023-08-29T02:16:45.036557Z",
     "iopub.status.busy": "2023-08-29T02:16:45.036321Z",
     "iopub.status.idle": "2023-08-29T02:16:45.339158Z",
     "shell.execute_reply": "2023-08-29T02:16:45.338416Z",
     "shell.execute_reply.started": "2023-08-29T02:16:45.036542Z"
    }
   },
   "outputs": [
    {
     "name": "stdout",
     "output_type": "stream",
     "text": [
      "0 9\n",
      "\n",
      "0 10\n",
      "\n",
      "0 11\n",
      "\n",
      "0 12\n",
      "\n",
      "0 13\n",
      "\n"
     ]
    }
   ],
   "source": [
    "with open(PATH) as file:\n",
    "    \n",
    "    # Ignoramos o cabeçalho\n",
    "    next(file)\n",
    "\n",
    "    i = 0\n",
    "    for line in file:\n",
    "        parts = line.split(',')\n",
    "        print(parts[0], parts[1])\n",
    "        i += 1\n",
    "        if i == 5:\n",
    "            break"
   ]
  },
  {
   "cell_type": "markdown",
   "id": "8e53c48a-5e1b-4cf7-931f-7e39620d4a49",
   "metadata": {},
   "source": [
    "## Criação do grafo"
   ]
  },
  {
   "cell_type": "markdown",
   "id": "73bdae5e-d6f0-4867-aa2c-46eefd7568d5",
   "metadata": {
    "execution": {
     "iopub.execute_input": "2023-08-20T19:37:55.240286Z",
     "iopub.status.busy": "2023-08-20T19:37:55.239465Z",
     "iopub.status.idle": "2023-08-20T19:37:55.305094Z",
     "shell.execute_reply": "2023-08-20T19:37:55.303577Z",
     "shell.execute_reply.started": "2023-08-20T19:37:55.240259Z"
    }
   },
   "source": [
    "Utilizaremos a biblioteca [graph-tool](https://graph-tool.skewed.de/) somente para criação e visualização básica dos grafos, sem suporte de nenhum método ou função que não seja essencial."
   ]
  },
  {
   "cell_type": "code",
   "execution_count": 4,
   "id": "31688a69-ca4c-490a-84b4-66742a357982",
   "metadata": {
    "execution": {
     "iopub.execute_input": "2023-08-29T02:16:45.340113Z",
     "iopub.status.busy": "2023-08-29T02:16:45.339964Z",
     "iopub.status.idle": "2023-08-29T02:16:45.345440Z",
     "shell.execute_reply": "2023-08-29T02:16:45.344589Z",
     "shell.execute_reply.started": "2023-08-29T02:16:45.340099Z"
    }
   },
   "outputs": [],
   "source": [
    "g = gte.Graph(directed=True) # pois o grafo é direcionado, como informado acima."
   ]
  },
  {
   "cell_type": "markdown",
   "id": "0121351c-e87e-443c-a777-63032cbfc8cc",
   "metadata": {},
   "source": [
    "Antes, vamos definir duas funções auxiliares para facilitar a adição de novos nós e arestas, respectivamente."
   ]
  },
  {
   "cell_type": "code",
   "execution_count": 5,
   "id": "5c6ed088-d0e6-4e7b-989a-b73d12549688",
   "metadata": {
    "execution": {
     "iopub.execute_input": "2023-08-29T02:16:45.346733Z",
     "iopub.status.busy": "2023-08-29T02:16:45.346526Z",
     "iopub.status.idle": "2023-08-29T02:16:45.357436Z",
     "shell.execute_reply": "2023-08-29T02:16:45.355937Z",
     "shell.execute_reply.started": "2023-08-29T02:16:45.346711Z"
    }
   },
   "outputs": [],
   "source": [
    "def get_or_add_vertex(g, id):\n",
    "    u = g.vertex_by_id(id)\n",
    "    if u is None:\n",
    "        u = g.add_vertex_by_id(id)\n",
    "    return u"
   ]
  },
  {
   "cell_type": "code",
   "execution_count": 6,
   "id": "5aa1e83b-4604-4085-b7f1-fc1a7fc5caa9",
   "metadata": {
    "execution": {
     "iopub.execute_input": "2023-08-29T02:16:45.359066Z",
     "iopub.status.busy": "2023-08-29T02:16:45.358684Z",
     "iopub.status.idle": "2023-08-29T02:16:45.369413Z",
     "shell.execute_reply": "2023-08-29T02:16:45.368369Z",
     "shell.execute_reply.started": "2023-08-29T02:16:45.359036Z"
    }
   },
   "outputs": [],
   "source": [
    "def get_or_add_edge(g, id_origin, id_destiny):\n",
    "    e = g.edge_by_ids(id_origin, id_destiny)\n",
    "    if e is None:\n",
    "        e = g.add_edge_by_ids(id_origin, id_destiny)\n",
    "    return e"
   ]
  },
  {
   "cell_type": "markdown",
   "id": "e08ef845-8fb5-43a3-8353-c067d1130a02",
   "metadata": {},
   "source": [
    "Depois de criar o novo grafo, vamos armazenar os valores de `out.linux` nele, o transformando em uma rede."
   ]
  },
  {
   "cell_type": "code",
   "execution_count": 7,
   "id": "d82b4d2d-c1b4-484e-a78a-6be0d0d0d923",
   "metadata": {
    "execution": {
     "iopub.execute_input": "2023-08-29T02:16:45.371091Z",
     "iopub.status.busy": "2023-08-29T02:16:45.370828Z",
     "iopub.status.idle": "2023-08-29T02:16:51.045967Z",
     "shell.execute_reply": "2023-08-29T02:16:51.045135Z",
     "shell.execute_reply.started": "2023-08-29T02:16:45.371073Z"
    }
   },
   "outputs": [
    {
     "name": "stdout",
     "output_type": "stream",
     "text": [
      "Foram lidas 213955 linhas.\n"
     ]
    }
   ],
   "source": [
    "with open(PATH) as file:\n",
    "    \n",
    "    # Ignoramos o cabeçalho\n",
    "    next(file)\n",
    "\n",
    "    i = 1\n",
    "    for line in file:\n",
    "        parts = line.split(',')\n",
    "\n",
    "        # Define os IDs de origem e destino.\n",
    "        id_origin = int(parts[0])\n",
    "        id_destiny = int(parts[1])\n",
    "        \n",
    "        # Adiciona os vértices.\n",
    "        get_or_add_vertex(g, id_origin)\n",
    "        get_or_add_vertex(g, id_destiny)\n",
    "\n",
    "        # Adiciona a aresta correspondente a esta linha.\n",
    "        get_or_add_edge(g, id_origin, id_destiny)\n",
    "        \n",
    "        i += 1\n",
    "\n",
    "print(f'Foram lidas {i} linhas.') "
   ]
  },
  {
   "cell_type": "markdown",
   "id": "4527a714-24c1-4d6b-ace3-32269f300eab",
   "metadata": {},
   "source": [
    "## Reposicionamento dos vértices"
   ]
  },
  {
   "cell_type": "markdown",
   "id": "923564fb-7f3c-4fe3-a560-c423b6072e37",
   "metadata": {},
   "source": [
    "A função `draw.sfdp_layout` será usada para direcionar a disposição dos vértices de forma a destacar padrões de agrupamento, a partir do algoritmo Scalable Force-Directed Placement.\n",
    "Esse algoritmo simula forças a fim de mover os vértices para posições onde as forças estão equilibradas."
   ]
  },
  {
   "cell_type": "code",
   "execution_count": 8,
   "id": "137eb50b-e52a-4b4a-be92-fb71175d97d1",
   "metadata": {
    "execution": {
     "iopub.execute_input": "2023-08-29T02:16:51.046929Z",
     "iopub.status.busy": "2023-08-29T02:16:51.046742Z",
     "iopub.status.idle": "2023-08-29T02:18:57.406058Z",
     "shell.execute_reply": "2023-08-29T02:18:57.405235Z",
     "shell.execute_reply.started": "2023-08-29T02:16:51.046915Z"
    }
   },
   "outputs": [],
   "source": [
    "layout = draw.sfdp_layout(g)"
   ]
  },
  {
   "cell_type": "code",
   "execution_count": 9,
   "id": "fb4d1179-2d20-4734-95ce-ead89c8f91d0",
   "metadata": {
    "execution": {
     "iopub.execute_input": "2023-08-29T02:18:57.409369Z",
     "iopub.status.busy": "2023-08-29T02:18:57.408940Z",
     "iopub.status.idle": "2023-08-29T02:18:57.874834Z",
     "shell.execute_reply": "2023-08-29T02:18:57.873960Z",
     "shell.execute_reply.started": "2023-08-29T02:18:57.409351Z"
    }
   },
   "outputs": [],
   "source": [
    "gte.move(g, layout)"
   ]
  },
  {
   "cell_type": "markdown",
   "id": "b00c9e76-86e3-4e24-8394-402860042868",
   "metadata": {},
   "source": [
    "## Armazenamento da rede"
   ]
  },
  {
   "cell_type": "markdown",
   "id": "b60cf942-8c2e-40eb-85a1-8b210a134bc2",
   "metadata": {
    "execution": {
     "iopub.execute_input": "2023-08-20T20:27:55.808351Z",
     "iopub.status.busy": "2023-08-20T20:27:55.808009Z",
     "iopub.status.idle": "2023-08-20T20:27:55.815750Z",
     "shell.execute_reply": "2023-08-20T20:27:55.814497Z",
     "shell.execute_reply.started": "2023-08-20T20:27:55.808329Z"
    }
   },
   "source": [
    "Para garantir a segurança da informação processada, devemos guardá-la em um arquivo na mesma pasta deste notebook."
   ]
  },
  {
   "cell_type": "code",
   "execution_count": 10,
   "id": "bb6587ad-a233-4dc9-8af1-b47f0ca233b7",
   "metadata": {
    "execution": {
     "iopub.execute_input": "2023-08-29T02:18:57.875624Z",
     "iopub.status.busy": "2023-08-29T02:18:57.875473Z",
     "iopub.status.idle": "2023-08-29T02:18:57.975840Z",
     "shell.execute_reply": "2023-08-29T02:18:57.975104Z",
     "shell.execute_reply.started": "2023-08-29T02:18:57.875612Z"
    }
   },
   "outputs": [],
   "source": [
    "g = gte.clean(g)"
   ]
  },
  {
   "cell_type": "code",
   "execution_count": 11,
   "id": "973858ac-46e1-4c1b-8f50-1f2015c87485",
   "metadata": {
    "execution": {
     "iopub.execute_input": "2023-08-29T02:18:57.976797Z",
     "iopub.status.busy": "2023-08-29T02:18:57.976635Z",
     "iopub.status.idle": "2023-08-29T02:19:06.215356Z",
     "shell.execute_reply": "2023-08-29T02:19:06.214630Z",
     "shell.execute_reply.started": "2023-08-29T02:18:57.976785Z"
    }
   },
   "outputs": [],
   "source": [
    "gte.save(g, 'linux.net.gz')"
   ]
  },
  {
   "cell_type": "markdown",
   "id": "d3cf04a6-7083-44b8-9994-97ffac7708dc",
   "metadata": {},
   "source": [
    "## Visualização da rede"
   ]
  },
  {
   "cell_type": "markdown",
   "id": "2e6d71c3-c46e-4d33-b3ad-e433ea90eb0c",
   "metadata": {},
   "source": [
    "O próximo passo é a renderização da rede."
   ]
  },
  {
   "cell_type": "code",
   "execution_count": 12,
   "id": "baa4ee05-bf7f-4513-8121-2bc0b27e0839",
   "metadata": {
    "execution": {
     "iopub.execute_input": "2023-08-29T02:19:06.216176Z",
     "iopub.status.busy": "2023-08-29T02:19:06.216017Z",
     "iopub.status.idle": "2023-08-29T02:19:06.224714Z",
     "shell.execute_reply": "2023-08-29T02:19:06.223418Z",
     "shell.execute_reply.started": "2023-08-29T02:19:06.216164Z"
    },
    "scrolled": true
   },
   "outputs": [
    {
     "data": {
      "text/html": [
       "\n",
       "        <div id=\"CXCK8YJBDyEmE2HeagAChi\"></div>\n",
       "        <script>netpixi.render('CXCK8YJBDyEmE2HeagAChi', '/static/__shared__/linux.net.gz', 1.7777777777777777, true, true, false, true);</script>\n",
       "    "
      ],
      "text/plain": [
       "<IPython.core.display.HTML object>"
      ]
     },
     "metadata": {},
     "output_type": "display_data"
    }
   ],
   "source": [
    "r = netpixi.render('linux.net.gz', infinite = True)"
   ]
  },
  {
   "cell_type": "markdown",
   "id": "70806544-40fc-4a4b-9a0e-ecf8e83c6977",
   "metadata": {},
   "source": [
    "Por fim, devemos ajustar a visualização da renderização."
   ]
  },
  {
   "cell_type": "code",
   "execution_count": 13,
   "id": "3b13096b-f84f-4910-bb28-cec6aa4063df",
   "metadata": {
    "execution": {
     "iopub.execute_input": "2023-08-29T02:19:06.225559Z",
     "iopub.status.busy": "2023-08-29T02:19:06.225400Z",
     "iopub.status.idle": "2023-08-29T02:19:06.233896Z",
     "shell.execute_reply": "2023-08-29T02:19:06.233127Z",
     "shell.execute_reply.started": "2023-08-29T02:19:06.225547Z"
    }
   },
   "outputs": [
    {
     "data": {
      "text/html": [
       "\n",
       "        <div id=\"dptjDKbszUgDf3Sa7Pn7NW\"></div>\n",
       "        <script>netpixi.call('dptjDKbszUgDf3Sa7Pn7NW', 'CXCK8YJBDyEmE2HeagAChi', 'changeGraph', 'eyJ0eXBlIjogInNldHRpbmdzIiwgInByb3BzIjogeyJ2ZXJ0ZXgiOiB7InNpemUiOiA0LCAiYndpZHRoIjogMX19fQo=');</script>\n",
       "    "
      ],
      "text/plain": [
       "<IPython.core.display.HTML object>"
      ]
     },
     "metadata": {},
     "output_type": "display_data"
    }
   ],
   "source": [
    "r.vertex_default(size=4, bwidth=1)"
   ]
  },
  {
   "cell_type": "code",
   "execution_count": 14,
   "id": "7e6a4ee8-e117-4f40-ac47-303b5266a215",
   "metadata": {
    "execution": {
     "iopub.execute_input": "2023-08-29T02:19:06.234725Z",
     "iopub.status.busy": "2023-08-29T02:19:06.234559Z",
     "iopub.status.idle": "2023-08-29T02:19:06.242556Z",
     "shell.execute_reply": "2023-08-29T02:19:06.241613Z",
     "shell.execute_reply.started": "2023-08-29T02:19:06.234713Z"
    }
   },
   "outputs": [
    {
     "data": {
      "text/html": [
       "\n",
       "        <div id=\"MMARNQKtHAGcDeTWwyKzn7\"></div>\n",
       "        <script>netpixi.call('MMARNQKtHAGcDeTWwyKzn7', 'CXCK8YJBDyEmE2HeagAChi', 'changeGraph', 'eyJ0eXBlIjogInNldHRpbmdzIiwgInByb3BzIjogeyJlZGdlIjogeyJ3aWR0aCI6IDF9fX0K');</script>\n",
       "    "
      ],
      "text/plain": [
       "<IPython.core.display.HTML object>"
      ]
     },
     "metadata": {},
     "output_type": "display_data"
    }
   ],
   "source": [
    "r.edge_default(width=1)"
   ]
  }
 ],
 "metadata": {
  "kernelspec": {
   "display_name": "Python 3 (ipykernel)",
   "language": "python",
   "name": "python3"
  },
  "language_info": {
   "codemirror_mode": {
    "name": "ipython",
    "version": 3
   },
   "file_extension": ".py",
   "mimetype": "text/x-python",
   "name": "python",
   "nbconvert_exporter": "python",
   "pygments_lexer": "ipython3",
   "version": "3.11.4"
  }
 },
 "nbformat": 4,
 "nbformat_minor": 5
}
